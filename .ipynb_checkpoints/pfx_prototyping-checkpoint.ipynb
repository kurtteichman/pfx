{
 "cells": [
  {
   "cell_type": "code",
   "execution_count": 1,
   "metadata": {},
   "outputs": [],
   "source": [
    "### PFX prototyping"
   ]
  },
  {
   "cell_type": "code",
   "execution_count": 2,
   "metadata": {},
   "outputs": [],
   "source": [
    "import pandas as pd\n",
    "import os\n",
    "import readability\n",
    "from openai import OpenAI\n",
    "import json\n",
    "import re\n",
    "from pfx_fewshots import baseline_fewshot_prompt,example,baseline_fewshot_icd10_labeling_prompt,icd10_example\n",
    "client = OpenAI()\n",
    "os.chdir(os.path.expanduser(\"../\"))"
   ]
  },
  {
   "cell_type": "code",
   "execution_count": 3,
   "metadata": {},
   "outputs": [],
   "source": [
    "df_fewshot = pd.read_csv('pfx_fewshot_examples_college.csv')"
   ]
  },
  {
   "cell_type": "code",
   "execution_count": 4,
   "metadata": {},
   "outputs": [
    {
     "data": {
      "text/html": [
       "<div>\n",
       "<style scoped>\n",
       "    .dataframe tbody tr th:only-of-type {\n",
       "        vertical-align: middle;\n",
       "    }\n",
       "\n",
       "    .dataframe tbody tr th {\n",
       "        vertical-align: top;\n",
       "    }\n",
       "\n",
       "    .dataframe thead th {\n",
       "        text-align: right;\n",
       "    }\n",
       "</style>\n",
       "<table border=\"1\" class=\"dataframe\">\n",
       "  <thead>\n",
       "    <tr style=\"text-align: right;\">\n",
       "      <th></th>\n",
       "      <th>Body_Part</th>\n",
       "      <th>Incidental_Finding</th>\n",
       "      <th>ICD10_code</th>\n",
       "      <th>PFx</th>\n",
       "      <th>PFx_ICD10_code</th>\n",
       "    </tr>\n",
       "  </thead>\n",
       "  <tbody>\n",
       "    <tr>\n",
       "      <th>0</th>\n",
       "      <td>Head</td>\n",
       "      <td>Cerebral cavernous malformation</td>\n",
       "      <td>I67.1</td>\n",
       "      <td>A small cavernous malformation of the brain is...</td>\n",
       "      <td>I67.1</td>\n",
       "    </tr>\n",
       "    <tr>\n",
       "      <th>1</th>\n",
       "      <td>Head</td>\n",
       "      <td>Infundibulum of cerebral artery</td>\n",
       "      <td>Q28.2</td>\n",
       "      <td>An infundibulum detected on an MRI of the brai...</td>\n",
       "      <td>Q28.2</td>\n",
       "    </tr>\n",
       "    <tr>\n",
       "      <th>2</th>\n",
       "      <td>Neck</td>\n",
       "      <td>Tornwaldt cyst</td>\n",
       "      <td>J39.2</td>\n",
       "      <td>A Tornwaldt cyst, often detected incidentally ...</td>\n",
       "      <td>J39.2</td>\n",
       "    </tr>\n",
       "    <tr>\n",
       "      <th>3</th>\n",
       "      <td>Head</td>\n",
       "      <td>Fluid in the right petrous apex</td>\n",
       "      <td>H70.8</td>\n",
       "      <td>A small amount of incidentally found fluid in ...</td>\n",
       "      <td>H70.8</td>\n",
       "    </tr>\n",
       "    <tr>\n",
       "      <th>4</th>\n",
       "      <td>Abdomen</td>\n",
       "      <td>Spinal hemangioma</td>\n",
       "      <td>D18.09</td>\n",
       "      <td>A spinal hemangioma, often found incidentally ...</td>\n",
       "      <td>D18.09</td>\n",
       "    </tr>\n",
       "  </tbody>\n",
       "</table>\n",
       "</div>"
      ],
      "text/plain": [
       "  Body_Part               Incidental_Finding ICD10_code  \\\n",
       "0      Head  Cerebral cavernous malformation      I67.1   \n",
       "1      Head  Infundibulum of cerebral artery      Q28.2   \n",
       "2      Neck                   Tornwaldt cyst      J39.2   \n",
       "3      Head  Fluid in the right petrous apex      H70.8   \n",
       "4   Abdomen                Spinal hemangioma     D18.09   \n",
       "\n",
       "                                                 PFx PFx_ICD10_code  \n",
       "0  A small cavernous malformation of the brain is...          I67.1  \n",
       "1  An infundibulum detected on an MRI of the brai...          Q28.2  \n",
       "2  A Tornwaldt cyst, often detected incidentally ...          J39.2  \n",
       "3  A small amount of incidentally found fluid in ...          H70.8  \n",
       "4  A spinal hemangioma, often found incidentally ...         D18.09  "
      ]
     },
     "execution_count": 4,
     "metadata": {},
     "output_type": "execute_result"
    }
   ],
   "source": [
    "df_fewshot.head()\n"
   ]
  },
  {
   "cell_type": "code",
   "execution_count": 7,
   "metadata": {},
   "outputs": [],
   "source": [
    "df_eval = pd.read_csv('pfx_evaluation_data.csv')"
   ]
  },
  {
   "cell_type": "code",
   "execution_count": 8,
   "metadata": {},
   "outputs": [
    {
     "data": {
      "text/html": [
       "<div>\n",
       "<style scoped>\n",
       "    .dataframe tbody tr th:only-of-type {\n",
       "        vertical-align: middle;\n",
       "    }\n",
       "\n",
       "    .dataframe tbody tr th {\n",
       "        vertical-align: top;\n",
       "    }\n",
       "\n",
       "    .dataframe thead th {\n",
       "        text-align: right;\n",
       "    }\n",
       "</style>\n",
       "<table border=\"1\" class=\"dataframe\">\n",
       "  <thead>\n",
       "    <tr style=\"text-align: right;\">\n",
       "      <th></th>\n",
       "      <th>Body_Part</th>\n",
       "      <th>Incidental_Finding</th>\n",
       "      <th>ICD10_code</th>\n",
       "      <th>Unnamed: 3</th>\n",
       "    </tr>\n",
       "  </thead>\n",
       "  <tbody>\n",
       "    <tr>\n",
       "      <th>0</th>\n",
       "      <td>Head</td>\n",
       "      <td>White matter lesions</td>\n",
       "      <td>R90.82</td>\n",
       "      <td>NaN</td>\n",
       "    </tr>\n",
       "    <tr>\n",
       "      <th>1</th>\n",
       "      <td>Head</td>\n",
       "      <td>Arachnoid cyst</td>\n",
       "      <td>Q04.3</td>\n",
       "      <td>NaN</td>\n",
       "    </tr>\n",
       "    <tr>\n",
       "      <th>2</th>\n",
       "      <td>Head</td>\n",
       "      <td>Pituitary microadenoma</td>\n",
       "      <td>D35.2</td>\n",
       "      <td>NaN</td>\n",
       "    </tr>\n",
       "    <tr>\n",
       "      <th>3</th>\n",
       "      <td>Head</td>\n",
       "      <td>Pineal cyst</td>\n",
       "      <td>Q04.6</td>\n",
       "      <td>NaN</td>\n",
       "    </tr>\n",
       "    <tr>\n",
       "      <th>4</th>\n",
       "      <td>Head</td>\n",
       "      <td>Chiari I malformation</td>\n",
       "      <td>Q07.0</td>\n",
       "      <td>NaN</td>\n",
       "    </tr>\n",
       "  </tbody>\n",
       "</table>\n",
       "</div>"
      ],
      "text/plain": [
       "  Body_Part      Incidental_Finding ICD10_code  Unnamed: 3\n",
       "0      Head    White matter lesions     R90.82         NaN\n",
       "1      Head          Arachnoid cyst      Q04.3         NaN\n",
       "2      Head  Pituitary microadenoma      D35.2         NaN\n",
       "3      Head             Pineal cyst      Q04.6         NaN\n",
       "4      Head   Chiari I malformation      Q07.0         NaN"
      ]
     },
     "execution_count": 8,
     "metadata": {},
     "output_type": "execute_result"
    }
   ],
   "source": [
    "df_eval.head()"
   ]
  },
  {
   "cell_type": "code",
   "execution_count": 9,
   "metadata": {},
   "outputs": [
    {
     "name": "stdout",
     "output_type": "stream",
     "text": [
      "<PFx>\n",
      "A small cavernous malformation of the brain is a collection of abnormal blood vessels that is typically benign and often discovered incidentally when imaging is done. Patients should understand that these small malformations usually do not cause symptoms and usually do not require treatment. However, it's important to have periodic follow-ups with a neurologist to monitor for any changes, as there is a slight risk of bleeding which could lead to symptoms like headaches or seizures. If symptoms develop or if there are concerns about the malformation's behavior, the neurologist may discuss management options, which could range from observation to, in rare cases, surgical intervention.\n",
      "</PFx>\n",
      "<PFx_ICD10_code>\n",
      "```{\"PFx_ICD10_code\":\"I67.1\"}```\n",
      "</PFx_ICD10_code>\n",
      "\n",
      "\n"
     ]
    }
   ],
   "source": [
    "print(icd10_example.format(**df_fewshot.iloc[0]))"
   ]
  },
  {
   "cell_type": "code",
   "execution_count": 12,
   "metadata": {},
   "outputs": [],
   "source": [
    "def extract_json(openai_response):\n",
    "    json_match = re.search(r'```.*(\\{.*?\\}).*```', openai_response.message.content, re.DOTALL)\n",
    "    if json_match:\n",
    "        json_str = json_match.group(1)\n",
    "        # Convert the extracted string to a JSON object\n",
    "        json_object = json.loads(json_str)\n",
    "        #print(json_object)\n",
    "        return json_object\n",
    "    else:\n",
    "        print(\"No JSON object found.\") \n",
    "        return dict()"
   ]
  },
  {
   "cell_type": "code",
   "execution_count": 13,
   "metadata": {},
   "outputs": [],
   "source": [
    "pfx_fewshot_examples = \"\"\n",
    "for i,row in df_fewshot.iterrows():\n",
    "    pfx_fewshot_examples += example.format(**row)\n",
    "\n",
    "    \n",
    "pfx_outputs = []\n",
    "for i,row in df_eval.iloc[:].iterrows():\n",
    "    #print(baseline_fewshot_prompt.format(examples=pfx_fewshot_examples,Incidental_Finding=row['Incidental_Finding']))\n",
    "    prompt = baseline_fewshot_prompt.format(examples=pfx_fewshot_examples,Incidental_Finding=row['Incidental_Finding'])\n",
    "    pfx_response = client.chat.completions.create(\n",
    "        #model=\"gpt-4o-mini\",\n",
    "        model=\"gpt-4o\",\n",
    "        temperature=0.0,\n",
    "        messages=[\n",
    "            {\"role\": \"system\", \"content\": \"You are a medical doctor rephrasing and explaining medical terminology to a patient.\" },\n",
    "            {\"role\": \"user\", \"content\": prompt }\n",
    "        ],\n",
    "        stream=False,\n",
    "    )\n",
    "    \n",
    "    pfx_outputs.append(pfx_response.choices[0])"
   ]
  },
  {
   "cell_type": "code",
   "execution_count": 14,
   "metadata": {},
   "outputs": [
    {
     "name": "stdout",
     "output_type": "stream",
     "text": [
      "<PFx>\n",
      "A small cavernous malformation of the brain is a collection of abnormal blood vessels that is typically benign and often discovered incidentally when imaging is done. Patients should understand that these small malformations usually do not cause symptoms and usually do not require treatment. However, it's important to have periodic follow-ups with a neurologist to monitor for any changes, as there is a slight risk of bleeding which could lead to symptoms like headaches or seizures. If symptoms develop or if there are concerns about the malformation's behavior, the neurologist may discuss management options, which could range from observation to, in rare cases, surgical intervention.\n",
      "</PFx>\n",
      "<PFx_ICD10_code>\n",
      "```{\"PFx_ICD10_code\":\"I67.1\"}```\n",
      "</PFx_ICD10_code>\n",
      "\n",
      "<PFx>\n",
      "An infundibulum detected on an MRI of the brain is a benign and typically incidental finding characterized by a funnel-shaped dilation at the origin of a cerebral artery. Patients should be reassured that an infundibulum is usually asymptomatic and does not pose any significant health risk, often requiring no further treatment or intervention.\n",
      "</PFx>\n",
      "<PFx_ICD10_code>\n",
      "```{\"PFx_ICD10_code\":\"Q28.2\"}```\n",
      "</PFx_ICD10_code>\n",
      "\n",
      "<PFx>\n",
      "A Tornwaldt cyst, often detected incidentally on an MRI of the neck, is a benign and typically asymptomatic cyst located in the nasopharynx. Patients should know that these cysts usually do not require treatment unless they cause symptoms like nasal obstruction or recurrent infections. In such cases, a consultation with an ENT specialist is recommended to discuss potential treatment options, which may include drainage or surgical removal.\n",
      "</PFx>\n",
      "<PFx_ICD10_code>\n",
      "```{\"PFx_ICD10_code\":\"J39.2\"}```\n",
      "</PFx_ICD10_code>\n",
      "\n",
      "<PFx>\n",
      "A small amount of incidentally found fluid in the petrous apex detected on an MRI of the brain is generally a benign finding and usually does not cause any symptoms. Patients should be reassured that this type of fluid accumulation is typically harmless and does not usually require treatment. If symptoms such as headaches, hearing loss, or dizziness develop, further evaluation may be needed to determine the cause and appropriate management.\n",
      "</PFx>\n",
      "<PFx_ICD10_code>\n",
      "```{\"PFx_ICD10_code\":\"H70.8\"}```\n",
      "</PFx_ICD10_code>\n",
      "\n",
      "<PFx>\n",
      "A spinal hemangioma, often found incidentally on an MRI of the abdomen, is a benign vascular tumor located within the vertebrae. Patients should understand that these lesions are typically asymptomatic and usually do not require treatment unless they cause pain, neurological symptoms, or structural instability. If symptoms arise, consultation with a spine specialist is advisable to discuss management options, which may include observation, pain management, or in rare cases, surgical intervention.\n",
      "</PFx>\n",
      "<PFx_ICD10_code>\n",
      "```{\"PFx_ICD10_code\":\"D18.09\"}```\n",
      "</PFx_ICD10_code>\n",
      "\n",
      "\n"
     ]
    }
   ],
   "source": [
    "print(pfx_icd10_fewshot_examples)"
   ]
  },
  {
   "cell_type": "code",
   "execution_count": 15,
   "metadata": {},
   "outputs": [],
   "source": [
    "pfx_outputs_json = list(map(extract_json,pfx_outputs))"
   ]
  },
  {
   "cell_type": "code",
   "execution_count": 16,
   "metadata": {},
   "outputs": [
    {
     "data": {
      "text/plain": [
       "{'finding': 'White matter lesions',\n",
       " 'ICD10_code': 'R90.82',\n",
       " 'PFx': \"White matter lesions, often found incidentally on an MRI of the brain, are small areas of damage or changes in the brain's white matter. Patients should know that these lesions are common, especially as people age, and they often do not cause any symptoms. While they can be associated with conditions like migraines, high blood pressure, or small vessel disease, they usually do not require treatment unless they are linked to specific symptoms or conditions. It's important to discuss the findings with your doctor to understand their significance in your particular case.\",\n",
       " 'PFx_ICD10_code': 'R90.82'}"
      ]
     },
     "execution_count": 16,
     "metadata": {},
     "output_type": "execute_result"
    }
   ],
   "source": [
    "pfx_outputs_json[0]"
   ]
  },
  {
   "cell_type": "code",
   "execution_count": 17,
   "metadata": {},
   "outputs": [],
   "source": [
    "pfx_icd10_fewshot_examples = \"\"\n",
    "for i,row in df_fewshot.iterrows():\n",
    "    pfx_icd10_fewshot_examples += icd10_example.format(**row)\n",
    "    \n",
    "pfx_icd10_codes = []\n",
    "for pfx_output in pfx_outputs_json:\n",
    "    prompt = baseline_fewshot_icd10_labeling_prompt.format(examples=pfx_icd10_fewshot_examples,PFx=pfx_output['PFx'])\n",
    "    pfx_icd10_response = client.chat.completions.create(\n",
    "            #model=\"gpt-4o-mini\",\n",
    "            model=\"gpt-4o\",\n",
    "            temperature=0.0,\n",
    "            messages=[\n",
    "                {\"role\": \"system\", \"content\": \"You are an ICD10 medical coder for incidental findings.\" },\n",
    "                {\"role\": \"user\", \"content\": prompt }\n",
    "            ],\n",
    "            stream=False,\n",
    "        )\n",
    "    pfx_icd10_codes.append(pfx_icd10_response.choices[0])\n",
    "    \n",
    "    \n"
   ]
  },
  {
   "cell_type": "code",
   "execution_count": 18,
   "metadata": {},
   "outputs": [
    {
     "name": "stdout",
     "output_type": "stream",
     "text": [
      "[Choice(finish_reason='stop', index=0, logprobs=None, message=ChatCompletionMessage(content='```json\\n{\"ICD10_code\":\"R90.82\"}\\n```', role='assistant', function_call=None, tool_calls=None, refusal=None)), Choice(finish_reason='stop', index=0, logprobs=None, message=ChatCompletionMessage(content='```json\\n{\"PFx_ICD10_code\":\"Q04.6\"}\\n```', role='assistant', function_call=None, tool_calls=None, refusal=None)), Choice(finish_reason='stop', index=0, logprobs=None, message=ChatCompletionMessage(content='```json\\n{\"ICD10_code\":\"D35.2\"}\\n```', role='assistant', function_call=None, tool_calls=None, refusal=None)), Choice(finish_reason='stop', index=0, logprobs=None, message=ChatCompletionMessage(content='```json\\n{\"ICD10_code\":\"D33.1\"}\\n```', role='assistant', function_call=None, tool_calls=None, refusal=None)), Choice(finish_reason='stop', index=0, logprobs=None, message=ChatCompletionMessage(content='```json\\n{\"PFx_ICD10_code\":\"Q07.0\"}\\n```', role='assistant', function_call=None, tool_calls=None, refusal=None)), Choice(finish_reason='stop', index=0, logprobs=None, message=ChatCompletionMessage(content='```json\\n{\"ICD10_code\":\"E04.1\"}\\n```', role='assistant', function_call=None, tool_calls=None, refusal=None)), Choice(finish_reason='stop', index=0, logprobs=None, message=ChatCompletionMessage(content='```json\\n{\"ICD10_code\":\"R59.0\"}\\n```', role='assistant', function_call=None, tool_calls=None, refusal=None)), Choice(finish_reason='stop', index=0, logprobs=None, message=ChatCompletionMessage(content='```json\\n{\"PFx_ICD10_code\":\"K11.8\"}\\n```', role='assistant', function_call=None, tool_calls=None, refusal=None)), Choice(finish_reason='stop', index=0, logprobs=None, message=ChatCompletionMessage(content='```json\\n{\"ICD10_code\":\"I65.2\"}\\n```', role='assistant', function_call=None, tool_calls=None, refusal=None)), Choice(finish_reason='stop', index=0, logprobs=None, message=ChatCompletionMessage(content='```json\\n{\"ICD10_code\":\"M50.20\"}\\n```', role='assistant', function_call=None, tool_calls=None, refusal=None)), Choice(finish_reason='stop', index=0, logprobs=None, message=ChatCompletionMessage(content='```json\\n{\"PFx_ICD10_code\":\"R91.1\"}\\n```', role='assistant', function_call=None, tool_calls=None, refusal=None)), Choice(finish_reason='stop', index=0, logprobs=None, message=ChatCompletionMessage(content='```json\\n{\"ICD10_code\":\"R59.0\"}\\n```', role='assistant', function_call=None, tool_calls=None, refusal=None)), Choice(finish_reason='stop', index=0, logprobs=None, message=ChatCompletionMessage(content='```json\\n{\"ICD10_code\":\"K44.9\"}\\n```', role='assistant', function_call=None, tool_calls=None, refusal=None)), Choice(finish_reason='stop', index=0, logprobs=None, message=ChatCompletionMessage(content='```json\\n{\"ICD10_code\":\"I25.10\"}\\n```', role='assistant', function_call=None, tool_calls=None, refusal=None)), Choice(finish_reason='stop', index=0, logprobs=None, message=ChatCompletionMessage(content='```json\\n{\"ICD10_code\":\"I31.3\"}\\n```', role='assistant', function_call=None, tool_calls=None, refusal=None)), Choice(finish_reason='stop', index=0, logprobs=None, message=ChatCompletionMessage(content='```json\\n{\"ICD10_code\":\"K76.89\"}\\n```', role='assistant', function_call=None, tool_calls=None, refusal=None)), Choice(finish_reason='stop', index=0, logprobs=None, message=ChatCompletionMessage(content='```json\\n{\"PFx_ICD10_code\":\"N28.1\"}\\n```', role='assistant', function_call=None, tool_calls=None, refusal=None)), Choice(finish_reason='stop', index=0, logprobs=None, message=ChatCompletionMessage(content='```json\\n{\"ICD10_code\":\"D35.00\"}\\n```', role='assistant', function_call=None, tool_calls=None, refusal=None)), Choice(finish_reason='stop', index=0, logprobs=None, message=ChatCompletionMessage(content='```json\\n{\"PFx_ICD10_code\":\"K86.2\"}\\n```', role='assistant', function_call=None, tool_calls=None, refusal=None)), Choice(finish_reason='stop', index=0, logprobs=None, message=ChatCompletionMessage(content='```json\\n{\"PFx_ICD10_code\":\"R16.1\"}\\n```', role='assistant', function_call=None, tool_calls=None, refusal=None)), Choice(finish_reason='stop', index=0, logprobs=None, message=ChatCompletionMessage(content='```json\\n{\"ICD10_code\":\"N83.0\"}\\n```', role='assistant', function_call=None, tool_calls=None, refusal=None)), Choice(finish_reason='stop', index=0, logprobs=None, message=ChatCompletionMessage(content='```json\\n{\"ICD10_code\":\"D25.9\"}\\n```', role='assistant', function_call=None, tool_calls=None, refusal=None)), Choice(finish_reason='stop', index=0, logprobs=None, message=ChatCompletionMessage(content='```json\\n{\"ICD10_code\":\"N40.1\"}\\n```', role='assistant', function_call=None, tool_calls=None, refusal=None)), Choice(finish_reason='stop', index=0, logprobs=None, message=ChatCompletionMessage(content='```json\\n{\"ICD10_code\":\"R59.0\"}\\n```', role='assistant', function_call=None, tool_calls=None, refusal=None)), Choice(finish_reason='stop', index=0, logprobs=None, message=ChatCompletionMessage(content='```json\\n{\"ICD10_code\":\"N32.3\"}\\n```', role='assistant', function_call=None, tool_calls=None, refusal=None))]\n"
     ]
    }
   ],
   "source": [
    "print(pfx_icd10_codes)"
   ]
  },
  {
   "cell_type": "code",
   "execution_count": 19,
   "metadata": {},
   "outputs": [],
   "source": [
    "pfx_icd10_codes_json = list(map(extract_json,pfx_icd10_codes))"
   ]
  },
  {
   "cell_type": "code",
   "execution_count": 20,
   "metadata": {},
   "outputs": [
    {
     "data": {
      "text/plain": [
       "[{'ICD10_code': 'R90.82'},\n",
       " {'PFx_ICD10_code': 'Q04.6'},\n",
       " {'ICD10_code': 'D35.2'},\n",
       " {'ICD10_code': 'D33.1'},\n",
       " {'PFx_ICD10_code': 'Q07.0'},\n",
       " {'ICD10_code': 'E04.1'},\n",
       " {'ICD10_code': 'R59.0'},\n",
       " {'PFx_ICD10_code': 'K11.8'},\n",
       " {'ICD10_code': 'I65.2'},\n",
       " {'ICD10_code': 'M50.20'},\n",
       " {'PFx_ICD10_code': 'R91.1'},\n",
       " {'ICD10_code': 'R59.0'},\n",
       " {'ICD10_code': 'K44.9'},\n",
       " {'ICD10_code': 'I25.10'},\n",
       " {'ICD10_code': 'I31.3'},\n",
       " {'ICD10_code': 'K76.89'},\n",
       " {'PFx_ICD10_code': 'N28.1'},\n",
       " {'ICD10_code': 'D35.00'},\n",
       " {'PFx_ICD10_code': 'K86.2'},\n",
       " {'PFx_ICD10_code': 'R16.1'},\n",
       " {'ICD10_code': 'N83.0'},\n",
       " {'ICD10_code': 'D25.9'},\n",
       " {'ICD10_code': 'N40.1'},\n",
       " {'ICD10_code': 'R59.0'},\n",
       " {'ICD10_code': 'N32.3'}]"
      ]
     },
     "execution_count": 20,
     "metadata": {},
     "output_type": "execute_result"
    }
   ],
   "source": [
    "pfx_icd10_codes_json"
   ]
  },
  {
   "cell_type": "code",
   "execution_count": 22,
   "metadata": {},
   "outputs": [],
   "source": [
    "output_df = pd.DataFrame(pfx_outputs_json)"
   ]
  },
  {
   "cell_type": "code",
   "execution_count": 33,
   "metadata": {},
   "outputs": [],
   "source": [
    "output_df['agent_icd10_codes'] = list(map(lambda x: list(x.values())[0],pfx_icd10_codes_json))"
   ]
  },
  {
   "cell_type": "code",
   "execution_count": 34,
   "metadata": {},
   "outputs": [
    {
     "data": {
      "text/html": [
       "<div>\n",
       "<style scoped>\n",
       "    .dataframe tbody tr th:only-of-type {\n",
       "        vertical-align: middle;\n",
       "    }\n",
       "\n",
       "    .dataframe tbody tr th {\n",
       "        vertical-align: top;\n",
       "    }\n",
       "\n",
       "    .dataframe thead th {\n",
       "        text-align: right;\n",
       "    }\n",
       "</style>\n",
       "<table border=\"1\" class=\"dataframe\">\n",
       "  <thead>\n",
       "    <tr style=\"text-align: right;\">\n",
       "      <th></th>\n",
       "      <th>finding</th>\n",
       "      <th>ICD10_code</th>\n",
       "      <th>PFx</th>\n",
       "      <th>PFx_ICD10_code</th>\n",
       "      <th>agent_icd10_codes</th>\n",
       "    </tr>\n",
       "  </thead>\n",
       "  <tbody>\n",
       "    <tr>\n",
       "      <th>0</th>\n",
       "      <td>White matter lesions</td>\n",
       "      <td>R90.82</td>\n",
       "      <td>White matter lesions, often found incidentally...</td>\n",
       "      <td>R90.82</td>\n",
       "      <td>R90.82</td>\n",
       "    </tr>\n",
       "    <tr>\n",
       "      <th>1</th>\n",
       "      <td>Arachnoid cyst</td>\n",
       "      <td>Q04.6</td>\n",
       "      <td>An arachnoid cyst is a fluid-filled sac that i...</td>\n",
       "      <td>Q04.6</td>\n",
       "      <td>Q04.6</td>\n",
       "    </tr>\n",
       "    <tr>\n",
       "      <th>2</th>\n",
       "      <td>Pituitary microadenoma</td>\n",
       "      <td>D35.2</td>\n",
       "      <td>A pituitary microadenoma is a small, benign tu...</td>\n",
       "      <td>D35.2</td>\n",
       "      <td>D35.2</td>\n",
       "    </tr>\n",
       "    <tr>\n",
       "      <th>3</th>\n",
       "      <td>Pineal cyst</td>\n",
       "      <td>Q04.6</td>\n",
       "      <td>A pineal cyst, often detected incidentally on ...</td>\n",
       "      <td>Q04.6</td>\n",
       "      <td>D33.1</td>\n",
       "    </tr>\n",
       "    <tr>\n",
       "      <th>4</th>\n",
       "      <td>Chiari I malformation</td>\n",
       "      <td>Q07.0</td>\n",
       "      <td>A Chiari I malformation is a condition where t...</td>\n",
       "      <td>Q07.0</td>\n",
       "      <td>Q07.0</td>\n",
       "    </tr>\n",
       "  </tbody>\n",
       "</table>\n",
       "</div>"
      ],
      "text/plain": [
       "                  finding ICD10_code  \\\n",
       "0    White matter lesions     R90.82   \n",
       "1          Arachnoid cyst      Q04.6   \n",
       "2  Pituitary microadenoma      D35.2   \n",
       "3             Pineal cyst      Q04.6   \n",
       "4   Chiari I malformation      Q07.0   \n",
       "\n",
       "                                                 PFx PFx_ICD10_code  \\\n",
       "0  White matter lesions, often found incidentally...         R90.82   \n",
       "1  An arachnoid cyst is a fluid-filled sac that i...          Q04.6   \n",
       "2  A pituitary microadenoma is a small, benign tu...          D35.2   \n",
       "3  A pineal cyst, often detected incidentally on ...          Q04.6   \n",
       "4  A Chiari I malformation is a condition where t...          Q07.0   \n",
       "\n",
       "  agent_icd10_codes  \n",
       "0            R90.82  \n",
       "1             Q04.6  \n",
       "2             D35.2  \n",
       "3             D33.1  \n",
       "4             Q07.0  "
      ]
     },
     "execution_count": 34,
     "metadata": {},
     "output_type": "execute_result"
    }
   ],
   "source": [
    "output_df.head()"
   ]
  },
  {
   "cell_type": "code",
   "execution_count": 36,
   "metadata": {},
   "outputs": [
    {
     "data": {
      "text/plain": [
       "[True, False]"
      ]
     },
     "execution_count": 36,
     "metadata": {},
     "output_type": "execute_result"
    }
   ],
   "source": [
    "list(map(lambda x: x[0]==x[1],zip([1,1], [1,2])))"
   ]
  },
  {
   "cell_type": "code",
   "execution_count": 37,
   "metadata": {},
   "outputs": [
    {
     "data": {
      "text/plain": [
       "[True,\n",
       " True,\n",
       " True,\n",
       " False,\n",
       " True,\n",
       " True,\n",
       " True,\n",
       " True,\n",
       " True,\n",
       " True,\n",
       " True,\n",
       " True,\n",
       " True,\n",
       " True,\n",
       " True,\n",
       " True,\n",
       " True,\n",
       " True,\n",
       " True,\n",
       " True,\n",
       " False,\n",
       " True,\n",
       " False,\n",
       " False,\n",
       " True]"
      ]
     },
     "execution_count": 37,
     "metadata": {},
     "output_type": "execute_result"
    }
   ],
   "source": [
    "list(map(lambda x: x[0]==x[1],zip(output_df['ICD10_code'],output_df['agent_icd10_codes'])))"
   ]
  },
  {
   "cell_type": "code",
   "execution_count": 38,
   "metadata": {},
   "outputs": [
    {
     "data": {
      "text/plain": [
       "0.84"
      ]
     },
     "execution_count": 38,
     "metadata": {},
     "output_type": "execute_result"
    }
   ],
   "source": [
    "sum(_)/len(_)"
   ]
  },
  {
   "cell_type": "code",
   "execution_count": null,
   "metadata": {},
   "outputs": [],
   "source": []
  }
 ],
 "metadata": {
  "kernelspec": {
   "display_name": "Python 3 (ipykernel)",
   "language": "python",
   "name": "python3"
  },
  "language_info": {
   "codemirror_mode": {
    "name": "ipython",
    "version": 3
   },
   "file_extension": ".py",
   "mimetype": "text/x-python",
   "name": "python",
   "nbconvert_exporter": "python",
   "pygments_lexer": "ipython3",
   "version": "3.10.13"
  },
  "vscode": {
   "interpreter": {
    "hash": "e23f799cbd2581634725fbf6ce3480ae26192d78438dfafc8efe944acd6490d5"
   }
  }
 },
 "nbformat": 4,
 "nbformat_minor": 4
}
