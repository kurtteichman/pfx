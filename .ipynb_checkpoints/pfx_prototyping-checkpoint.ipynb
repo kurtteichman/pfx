{
 "cells": [
  {
   "cell_type": "code",
   "execution_count": 1,
   "metadata": {},
   "outputs": [],
   "source": [
    "### PFX prototyping"
   ]
  },
  {
   "cell_type": "code",
   "execution_count": 2,
   "metadata": {},
   "outputs": [],
   "source": [
    "import pandas as pd\n",
    "import os\n",
    "from readability import Readability\n",
    "import textstat\n",
    "from openai import OpenAI\n",
    "import json\n",
    "import re\n",
    "from pfx_fewshots import baseline_fewshot_prompt,example,baseline_fewshot_icd10_labeling_prompt,icd10_example,baseline_zeroshot_prompt\n",
    "client = OpenAI()"
   ]
  },
  {
   "cell_type": "code",
   "execution_count": 3,
   "metadata": {},
   "outputs": [],
   "source": [
    "df_fewshot = pd.read_csv('pfx_fewshot_examples_college.csv')"
   ]
  },
  {
   "cell_type": "code",
   "execution_count": 4,
   "metadata": {},
   "outputs": [
    {
     "data": {
      "text/html": [
       "<div>\n",
       "<style scoped>\n",
       "    .dataframe tbody tr th:only-of-type {\n",
       "        vertical-align: middle;\n",
       "    }\n",
       "\n",
       "    .dataframe tbody tr th {\n",
       "        vertical-align: top;\n",
       "    }\n",
       "\n",
       "    .dataframe thead th {\n",
       "        text-align: right;\n",
       "    }\n",
       "</style>\n",
       "<table border=\"1\" class=\"dataframe\">\n",
       "  <thead>\n",
       "    <tr style=\"text-align: right;\">\n",
       "      <th></th>\n",
       "      <th>Body_Part</th>\n",
       "      <th>Incidental_Finding</th>\n",
       "      <th>ICD10_code</th>\n",
       "      <th>PFx</th>\n",
       "      <th>PFx_ICD10_code</th>\n",
       "    </tr>\n",
       "  </thead>\n",
       "  <tbody>\n",
       "    <tr>\n",
       "      <th>0</th>\n",
       "      <td>Head</td>\n",
       "      <td>Cerebral cavernous malformation</td>\n",
       "      <td>I67.1</td>\n",
       "      <td>A small cavernous malformation of the brain is...</td>\n",
       "      <td>I67.1</td>\n",
       "    </tr>\n",
       "    <tr>\n",
       "      <th>1</th>\n",
       "      <td>Head</td>\n",
       "      <td>Infundibulum of cerebral artery</td>\n",
       "      <td>Q28.2</td>\n",
       "      <td>An infundibulum detected on an MRI of the brai...</td>\n",
       "      <td>Q28.2</td>\n",
       "    </tr>\n",
       "    <tr>\n",
       "      <th>2</th>\n",
       "      <td>Neck</td>\n",
       "      <td>Tornwaldt cyst</td>\n",
       "      <td>J39.2</td>\n",
       "      <td>A Tornwaldt cyst, often detected incidentally ...</td>\n",
       "      <td>J39.2</td>\n",
       "    </tr>\n",
       "    <tr>\n",
       "      <th>3</th>\n",
       "      <td>Head</td>\n",
       "      <td>Fluid in the right petrous apex</td>\n",
       "      <td>H70.8</td>\n",
       "      <td>A small amount of incidentally found fluid in ...</td>\n",
       "      <td>H70.8</td>\n",
       "    </tr>\n",
       "    <tr>\n",
       "      <th>4</th>\n",
       "      <td>Abdomen</td>\n",
       "      <td>Spinal hemangioma</td>\n",
       "      <td>D18.09</td>\n",
       "      <td>A spinal hemangioma, often found incidentally ...</td>\n",
       "      <td>D18.09</td>\n",
       "    </tr>\n",
       "  </tbody>\n",
       "</table>\n",
       "</div>"
      ],
      "text/plain": [
       "  Body_Part               Incidental_Finding ICD10_code  \\\n",
       "0      Head  Cerebral cavernous malformation      I67.1   \n",
       "1      Head  Infundibulum of cerebral artery      Q28.2   \n",
       "2      Neck                   Tornwaldt cyst      J39.2   \n",
       "3      Head  Fluid in the right petrous apex      H70.8   \n",
       "4   Abdomen                Spinal hemangioma     D18.09   \n",
       "\n",
       "                                                 PFx PFx_ICD10_code  \n",
       "0  A small cavernous malformation of the brain is...          I67.1  \n",
       "1  An infundibulum detected on an MRI of the brai...          Q28.2  \n",
       "2  A Tornwaldt cyst, often detected incidentally ...          J39.2  \n",
       "3  A small amount of incidentally found fluid in ...          H70.8  \n",
       "4  A spinal hemangioma, often found incidentally ...         D18.09  "
      ]
     },
     "execution_count": 4,
     "metadata": {},
     "output_type": "execute_result"
    }
   ],
   "source": [
    "df_fewshot.head()\n"
   ]
  },
  {
   "cell_type": "code",
   "execution_count": 5,
   "metadata": {},
   "outputs": [],
   "source": [
    "df_eval = pd.read_csv('pfx_evaluation_data.csv')"
   ]
  },
  {
   "cell_type": "code",
   "execution_count": 6,
   "metadata": {},
   "outputs": [
    {
     "data": {
      "text/html": [
       "<div>\n",
       "<style scoped>\n",
       "    .dataframe tbody tr th:only-of-type {\n",
       "        vertical-align: middle;\n",
       "    }\n",
       "\n",
       "    .dataframe tbody tr th {\n",
       "        vertical-align: top;\n",
       "    }\n",
       "\n",
       "    .dataframe thead th {\n",
       "        text-align: right;\n",
       "    }\n",
       "</style>\n",
       "<table border=\"1\" class=\"dataframe\">\n",
       "  <thead>\n",
       "    <tr style=\"text-align: right;\">\n",
       "      <th></th>\n",
       "      <th>Body_Part</th>\n",
       "      <th>Incidental_Finding</th>\n",
       "      <th>ICD10_code</th>\n",
       "      <th>Unnamed: 3</th>\n",
       "    </tr>\n",
       "  </thead>\n",
       "  <tbody>\n",
       "    <tr>\n",
       "      <th>0</th>\n",
       "      <td>Head</td>\n",
       "      <td>White matter lesions</td>\n",
       "      <td>R90.82</td>\n",
       "      <td>NaN</td>\n",
       "    </tr>\n",
       "    <tr>\n",
       "      <th>1</th>\n",
       "      <td>Head</td>\n",
       "      <td>Arachnoid cyst</td>\n",
       "      <td>Q04.3</td>\n",
       "      <td>NaN</td>\n",
       "    </tr>\n",
       "    <tr>\n",
       "      <th>2</th>\n",
       "      <td>Head</td>\n",
       "      <td>Pituitary microadenoma</td>\n",
       "      <td>D35.2</td>\n",
       "      <td>NaN</td>\n",
       "    </tr>\n",
       "    <tr>\n",
       "      <th>3</th>\n",
       "      <td>Head</td>\n",
       "      <td>Pineal cyst</td>\n",
       "      <td>Q04.6</td>\n",
       "      <td>NaN</td>\n",
       "    </tr>\n",
       "    <tr>\n",
       "      <th>4</th>\n",
       "      <td>Head</td>\n",
       "      <td>Chiari I malformation</td>\n",
       "      <td>Q07.0</td>\n",
       "      <td>NaN</td>\n",
       "    </tr>\n",
       "  </tbody>\n",
       "</table>\n",
       "</div>"
      ],
      "text/plain": [
       "  Body_Part      Incidental_Finding ICD10_code  Unnamed: 3\n",
       "0      Head    White matter lesions     R90.82         NaN\n",
       "1      Head          Arachnoid cyst      Q04.3         NaN\n",
       "2      Head  Pituitary microadenoma      D35.2         NaN\n",
       "3      Head             Pineal cyst      Q04.6         NaN\n",
       "4      Head   Chiari I malformation      Q07.0         NaN"
      ]
     },
     "execution_count": 6,
     "metadata": {},
     "output_type": "execute_result"
    }
   ],
   "source": [
    "df_eval.head()"
   ]
  },
  {
   "cell_type": "code",
   "execution_count": 7,
   "metadata": {},
   "outputs": [
    {
     "name": "stdout",
     "output_type": "stream",
     "text": [
      "<PFx>\n",
      "A small cavernous malformation of the brain is a collection of abnormal blood vessels that is typically benign and often discovered incidentally when imaging is done. Patients should understand that these small malformations usually do not cause symptoms and usually do not require treatment. However, it's important to have periodic follow-ups with a neurologist to monitor for any changes, as there is a slight risk of bleeding which could lead to symptoms like headaches or seizures. If symptoms develop or if there are concerns about the malformation's behavior, the neurologist may discuss management options, which could range from observation to, in rare cases, surgical intervention.\n",
      "</PFx>\n",
      "<PFx_ICD10_code>\n",
      "```{\"PFx_ICD10_code\":\"I67.1\"}```\n",
      "</PFx_ICD10_code>\n",
      "\n",
      "\n"
     ]
    }
   ],
   "source": [
    "print(icd10_example.format(**df_fewshot.iloc[0]))"
   ]
  },
  {
   "cell_type": "code",
   "execution_count": null,
   "metadata": {},
   "outputs": [],
   "source": [
    "def label_icd10s(pfx_outputs_json):\n",
    "    pfx_icd10_fewshot_examples = \"\"\n",
    "    for i,row in df_fewshot.iterrows():\n",
    "        pfx_icd10_fewshot_examples += icd10_example.format(**row)\n",
    "    \n",
    "    pfx_icd10_codes = []\n",
    "    for pfx_output in pfx_outputs_json:\n",
    "        prompt = baseline_fewshot_icd10_labeling_prompt.format(examples=pfx_icd10_fewshot_examples,PFx=pfx_output['PFx'])\n",
    "        pfx_icd10_response = client.chat.completions.create(\n",
    "                #model=\"gpt-4o-mini\",\n",
    "                model=\"gpt-4o\",\n",
    "                temperature=0.0,\n",
    "                messages=[\n",
    "                    {\"role\": \"system\", \"content\": \"You are an ICD10 medical coder for incidental findings.\" },\n",
    "                    {\"role\": \"user\", \"content\": prompt }\n",
    "                ],\n",
    "                stream=False,\n",
    "            )\n",
    "        pfx_icd10_codes.append(pfx_icd10_response.choices[0])"
   ]
  },
  {
   "cell_type": "code",
   "execution_count": null,
   "metadata": {},
   "outputs": [],
   "source": [
    "# https://en.wikipedia.org/wiki/Flesch%E2%80%93Kincaid_readability_tests#Flesch_reading_ease\n",
    "def map_reading_level(flesch_reading_ease):\n",
    "    if flesch_reading_ease < 10:\n",
    "        return \"Professional\"\n",
    "    elif 10.0 <= flesch_reading_ease < 30.0:\n",
    "        return \"College graduate\"\n",
    "    elif 30.0 <= flesch_reading_ease < 50.0:\n",
    "        return \"College\"\n",
    "    elif 50.0 <= flesch_reading_ease < 60.0:\n",
    "        return \"10th to 12th grade\"\n",
    "    elif 60.0 <= flesch_reading_ease < 70.0:\n",
    "        return \"8th & 9th grade\"\n",
    "    elif 70.0 <= flesch_reading_ease < 80.0:\n",
    "        return \"7th grade\"\n",
    "    elif 80.0 <= flesch_reading_ease < 90.0:\n",
    "        return \"6th grade\"\n",
    "    elif 90.0 <= flesch_reading_ease < 100.0:\n",
    "        return \"5th grade\"\n",
    "    else:\n",
    "        return \"\""
   ]
  },
  {
   "cell_type": "code",
   "execution_count": 8,
   "metadata": {},
   "outputs": [],
   "source": [
    "def extract_json(openai_response):\n",
    "    json_match = re.search(r'```.*(\\{.*?\\}).*```', openai_response.message.content, re.DOTALL)\n",
    "    if json_match:\n",
    "        json_str = json_match.group(1)\n",
    "        # Convert the extracted string to a JSON object\n",
    "        json_object = json.loads(json_str)\n",
    "        #print(json_object)\n",
    "        return json_object\n",
    "    else:\n",
    "        print(\"No JSON object found.\") \n",
    "        return dict()"
   ]
  },
  {
   "cell_type": "code",
   "execution_count": 11,
   "metadata": {},
   "outputs": [],
   "source": [
    "pfx_zeroshot_outputs = []\n",
    "for i,row in df_eval.iloc[:].iterrows():\n",
    "    #print(baseline_fewshot_prompt.format(examples=pfx_fewshot_examples,Incidental_Finding=row['Incidental_Finding']))\n",
    "    prompt = baseline_zeroshot_prompt.format(Incidental_Finding=row['Incidental_Finding'])\n",
    "    pfx_response = client.chat.completions.create(\n",
    "        #model=\"gpt-4o-mini\",\n",
    "        model=\"gpt-4o\",\n",
    "        temperature=0.0,\n",
    "        messages=[\n",
    "            {\"role\": \"system\", \"content\": \"You are a medical doctor rephrasing and explaining medical terminology to a patient.\" },\n",
    "            {\"role\": \"user\", \"content\": prompt }\n",
    "        ],\n",
    "        stream=False,\n",
    "    )\n",
    "    \n",
    "    pfx_zeroshot_outputs.append(pfx_response.choices[0])"
   ]
  },
  {
   "cell_type": "code",
   "execution_count": 18,
   "metadata": {},
   "outputs": [],
   "source": [
    "pfx_zeroshot_outputs_json = list(map(extract_json,pfx_zeroshot_outputs))\n",
    "pfx_zeroshot_outputs_icd10_labels = label_icd10s(pfx_zeroshot_outputs_json)\n",
    "pfx_zeroshot_output_df = pd.DataFrame(pfx_zeroshot_outputs_json)"
   ]
  },
  {
   "cell_type": "code",
   "execution_count": 21,
   "metadata": {},
   "outputs": [],
   "source": [
    "pfx_zeroshot_output_df['agent_icd10_codes'] = list(map(lambda x: list(x.values())[0],pfx_zeroshot_outputs_icd10_labels))"
   ]
  },
  {
   "cell_type": "code",
   "execution_count": 22,
   "metadata": {},
   "outputs": [
    {
     "data": {
      "text/plain": [
       "[False,\n",
       " False,\n",
       " True,\n",
       " False,\n",
       " True,\n",
       " True,\n",
       " True,\n",
       " True,\n",
       " True,\n",
       " True,\n",
       " True,\n",
       " True,\n",
       " True,\n",
       " True,\n",
       " True,\n",
       " True,\n",
       " True,\n",
       " True,\n",
       " True,\n",
       " True,\n",
       " False,\n",
       " True,\n",
       " True,\n",
       " False,\n",
       " True]"
      ]
     },
     "execution_count": 22,
     "metadata": {},
     "output_type": "execute_result"
    }
   ],
   "source": [
    "list(map(lambda x: x[0]==x[1],zip(pfx_zeroshot_output_df['ICD10_code'],pfx_zeroshot_output_df['agent_icd10_codes'])))"
   ]
  },
  {
   "cell_type": "code",
   "execution_count": 23,
   "metadata": {},
   "outputs": [
    {
     "data": {
      "text/plain": [
       "0.8"
      ]
     },
     "execution_count": 23,
     "metadata": {},
     "output_type": "execute_result"
    }
   ],
   "source": [
    "#icd10 accuracy -- at least according to GPT4o\n",
    "sum(_)/len(_)"
   ]
  },
  {
   "cell_type": "code",
   "execution_count": 29,
   "metadata": {},
   "outputs": [],
   "source": [
    "pfx_fewshot_examples = \"\"\n",
    "for i,row in df_fewshot.iterrows():\n",
    "    pfx_fewshot_examples += example.format(**row)\n",
    "\n",
    "    \n",
    "pfx_fewshot_outputs = []\n",
    "for i,row in df_eval.iloc[:].iterrows():\n",
    "    #print(baseline_fewshot_prompt.format(examples=pfx_fewshot_examples,Incidental_Finding=row['Incidental_Finding']))\n",
    "    prompt = baseline_fewshot_prompt.format(examples=pfx_fewshot_examples,Incidental_Finding=row['Incidental_Finding'])\n",
    "    pfx_response = client.chat.completions.create(\n",
    "        #model=\"gpt-4o-mini\",\n",
    "        model=\"gpt-4o\",\n",
    "        temperature=0.0,\n",
    "        messages=[\n",
    "            {\"role\": \"system\", \"content\": \"You are a medical doctor rephrasing and explaining medical terminology to a patient.\" },\n",
    "            {\"role\": \"user\", \"content\": prompt }\n",
    "        ],\n",
    "        stream=False,\n",
    "    )\n",
    "    \n",
    "    pfx_fewshot_outputs.append(pfx_response.choices[0])"
   ]
  },
  {
   "cell_type": "code",
   "execution_count": 34,
   "metadata": {},
   "outputs": [
    {
     "data": {
      "text/plain": [
       "25"
      ]
     },
     "execution_count": 34,
     "metadata": {},
     "output_type": "execute_result"
    }
   ],
   "source": [
    "len(pfx_fewshot_outputs_json)"
   ]
  },
  {
   "cell_type": "code",
   "execution_count": 36,
   "metadata": {},
   "outputs": [
    {
     "data": {
      "text/plain": [
       "25"
      ]
     },
     "execution_count": 36,
     "metadata": {},
     "output_type": "execute_result"
    }
   ],
   "source": [
    "len(pfx_fewshot_outputs_icd10_labels)"
   ]
  },
  {
   "cell_type": "code",
   "execution_count": 30,
   "metadata": {},
   "outputs": [],
   "source": [
    "pfx_fewshot_outputs_json = list(map(extract_json,pfx_fewshot_outputs))\n",
    "pfx_fewshot_outputs_icd10_labels = label_icd10s(pfx_fewshot_outputs_json)\n"
   ]
  },
  {
   "cell_type": "code",
   "execution_count": 41,
   "metadata": {},
   "outputs": [
    {
     "data": {
      "text/plain": [
       "[{'PFx_ICD10_code': 'R90.82'},\n",
       " {'ICD10_code': 'Q04.6'},\n",
       " {'PFx_ICD10_code': 'D35.2'},\n",
       " {'PFx_ICD10_code': 'Q04.8'},\n",
       " {'ICD10_code': 'Q07.0'},\n",
       " {'PFx_ICD10_code': 'E04.1'},\n",
       " {'PFx_ICD10_code': 'R59.0'},\n",
       " {'ICD10_code': 'K11.8'},\n",
       " {'ICD10_code': 'I65.2'},\n",
       " {'ICD10_code': 'M50.20'},\n",
       " {'ICD10_code': 'R91.1'},\n",
       " {'PFx_ICD10_code': 'R59.0'},\n",
       " {'ICD10_code': 'K44.9'},\n",
       " {'ICD10_code': 'I25.10'},\n",
       " {'ICD10_code': 'I31.3'},\n",
       " {'PFx_ICD10_code': 'K76.8'},\n",
       " {'ICD10_code': 'N28.1'},\n",
       " {'PFx_ICD10_code': 'D35.00'},\n",
       " {'ICD10_code': 'K86.2'},\n",
       " {'ICD10_code': 'R16.1'},\n",
       " {'ICD10_code': 'N83.2'},\n",
       " {'ICD10_code': 'D25.9'},\n",
       " {'ICD10_code': 'N40.1'},\n",
       " {'ICD10_code': 'R59.1'},\n",
       " {'ICD10_code': 'N32.3'}]"
      ]
     },
     "execution_count": 41,
     "metadata": {},
     "output_type": "execute_result"
    }
   ],
   "source": [
    "pfx_fewshot_outputs_icd10_labels"
   ]
  },
  {
   "cell_type": "code",
   "execution_count": 44,
   "metadata": {},
   "outputs": [
    {
     "data": {
      "text/plain": [
       "['R90.82',\n",
       " 'Q04.6',\n",
       " 'D35.2',\n",
       " 'Q04.8',\n",
       " 'Q07.0',\n",
       " 'E04.1',\n",
       " 'R59.0',\n",
       " 'K11.8',\n",
       " 'I65.2',\n",
       " 'M50.20',\n",
       " 'R91.1',\n",
       " 'R59.0',\n",
       " 'K44.9',\n",
       " 'I25.10',\n",
       " 'I31.3',\n",
       " 'K76.8',\n",
       " 'N28.1',\n",
       " 'D35.00',\n",
       " 'K86.2',\n",
       " 'R16.1',\n",
       " 'N83.2',\n",
       " 'D25.9',\n",
       " 'N40.1',\n",
       " 'R59.1',\n",
       " 'N32.3']"
      ]
     },
     "execution_count": 44,
     "metadata": {},
     "output_type": "execute_result"
    }
   ],
   "source": [
    " list(map(lambda x: list(x.values())[0],pfx_fewshot_outputs_icd10_labels))"
   ]
  },
  {
   "cell_type": "code",
   "execution_count": 46,
   "metadata": {},
   "outputs": [],
   "source": [
    "pfx_fewshot_output_df = pd.DataFrame(pfx_fewshot_outputs_json)\n",
    "pfx_fewshot_output_df['agent_icd10_codes'] = list(map(lambda x: list(x.values())[0],pfx_fewshot_outputs_icd10_labels))"
   ]
  },
  {
   "cell_type": "code",
   "execution_count": 48,
   "metadata": {},
   "outputs": [
    {
     "data": {
      "text/plain": [
       "[True,\n",
       " False,\n",
       " True,\n",
       " True,\n",
       " True,\n",
       " True,\n",
       " True,\n",
       " True,\n",
       " True,\n",
       " True,\n",
       " True,\n",
       " True,\n",
       " True,\n",
       " True,\n",
       " True,\n",
       " True,\n",
       " True,\n",
       " True,\n",
       " True,\n",
       " True,\n",
       " True,\n",
       " True,\n",
       " False,\n",
       " True,\n",
       " True]"
      ]
     },
     "execution_count": 48,
     "metadata": {},
     "output_type": "execute_result"
    }
   ],
   "source": [
    "list(map(lambda x: x[0]==x[1],zip(pfx_fewshot_output_df['ICD10_code'],pfx_fewshot_output_df['agent_icd10_codes'])))"
   ]
  },
  {
   "cell_type": "code",
   "execution_count": 49,
   "metadata": {},
   "outputs": [
    {
     "data": {
      "text/plain": [
       "0.92"
      ]
     },
     "execution_count": 49,
     "metadata": {},
     "output_type": "execute_result"
    }
   ],
   "source": [
    "#icd10 accuracy -- at least according to GPT4o\n",
    "sum(_)/len(_)"
   ]
  },
  {
   "cell_type": "code",
   "execution_count": 21,
   "metadata": {},
   "outputs": [
    {
     "data": {
      "text/plain": [
       "<readability.readability.Readability at 0x1697209a0>"
      ]
     },
     "execution_count": 21,
     "metadata": {},
     "output_type": "execute_result"
    }
   ],
   "source": []
  },
  {
   "cell_type": "code",
   "execution_count": 24,
   "metadata": {},
   "outputs": [],
   "source": []
  },
  {
   "cell_type": "code",
   "execution_count": 52,
   "metadata": {},
   "outputs": [
    {
     "data": {
      "text/plain": [
       "0     42.92\n",
       "1     55.84\n",
       "2     38.66\n",
       "3     42.72\n",
       "4     30.40\n",
       "5     53.81\n",
       "6     45.56\n",
       "7     48.13\n",
       "8     54.22\n",
       "9     59.84\n",
       "10    65.56\n",
       "11    38.66\n",
       "12    45.56\n",
       "13    47.62\n",
       "14    47.12\n",
       "15    50.87\n",
       "16    48.33\n",
       "17    42.72\n",
       "18    52.19\n",
       "19    52.39\n",
       "20    48.30\n",
       "21    45.56\n",
       "22    40.69\n",
       "23    41.40\n",
       "24    33.75\n",
       "Name: PFx, dtype: float64"
      ]
     },
     "execution_count": 52,
     "metadata": {},
     "output_type": "execute_result"
    }
   ],
   "source": [
    "pfx_fewshot_output_df['PFx'].apply(textstat.flesch_reading_ease)"
   ]
  },
  {
   "cell_type": "code",
   "execution_count": 26,
   "metadata": {},
   "outputs": [
    {
     "data": {
      "text/plain": [
       "38.15"
      ]
     },
     "execution_count": 26,
     "metadata": {},
     "output_type": "execute_result"
    }
   ],
   "source": [
    "textstat.flesch_reading_ease(output_df.iloc[0]['PFx'])"
   ]
  },
  {
   "cell_type": "code",
   "execution_count": null,
   "metadata": {},
   "outputs": [],
   "source": []
  }
 ],
 "metadata": {
  "kernelspec": {
   "display_name": "Python 3 (ipykernel)",
   "language": "python",
   "name": "python3"
  },
  "language_info": {
   "codemirror_mode": {
    "name": "ipython",
    "version": 3
   },
   "file_extension": ".py",
   "mimetype": "text/x-python",
   "name": "python",
   "nbconvert_exporter": "python",
   "pygments_lexer": "ipython3",
   "version": "3.10.13"
  },
  "vscode": {
   "interpreter": {
    "hash": "e23f799cbd2581634725fbf6ce3480ae26192d78438dfafc8efe944acd6490d5"
   }
  }
 },
 "nbformat": 4,
 "nbformat_minor": 4
}
