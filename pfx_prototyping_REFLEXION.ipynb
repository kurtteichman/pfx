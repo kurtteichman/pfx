{
 "cells": [
  {
   "cell_type": "code",
   "execution_count": 1,
   "metadata": {},
   "outputs": [],
   "source": [
    "### PFX prototyping"
   ]
  },
  {
   "cell_type": "code",
   "execution_count": 1,
   "metadata": {},
   "outputs": [],
   "source": [
    "import pandas as pd\n",
    "import os\n",
    "from readability import Readability\n",
    "import textstat\n",
    "from openai import OpenAI\n",
    "import json\n",
    "import re\n",
    "from pfx_prompts import baseline_fewshot_prompt,example,baseline_fewshot_icd10_labeling_prompt,icd10_example,baseline_zeroshot_prompt,zeroshot_prompt_reflexion_reading_level_error\n",
    "client = OpenAI()"
   ]
  },
  {
   "cell_type": "code",
   "execution_count": 2,
   "metadata": {},
   "outputs": [],
   "source": [
    "# reading levels\n",
    "PROFESSIONAL = \"Professional\"\n",
    "COLLEGE_GRADUATE = \"College graduate\"\n",
    "COLLEGE = \"College\"\n",
    "TENTH_TO_TWELTH_GRADE = \"10th to 12th grade\"\n",
    "EIGTH_TO_NINTH_GRADE = \"8th to 9th grade\"\n",
    "SEVENTH_GRADE = \"7th grade\"\n",
    "SIXTH_GRADE = \"6th grade\"\n",
    "FIFTH_GRADE = \"5th grade\"\n",
    "N_A = \"N/A\"\n"
   ]
  },
  {
   "cell_type": "code",
   "execution_count": 3,
   "metadata": {},
   "outputs": [],
   "source": [
    "df_fewshot = pd.read_csv('pfx_fewshot_examples_college.csv')"
   ]
  },
  {
   "cell_type": "code",
   "execution_count": 4,
   "metadata": {},
   "outputs": [
    {
     "data": {
      "text/html": [
       "<div>\n",
       "<style scoped>\n",
       "    .dataframe tbody tr th:only-of-type {\n",
       "        vertical-align: middle;\n",
       "    }\n",
       "\n",
       "    .dataframe tbody tr th {\n",
       "        vertical-align: top;\n",
       "    }\n",
       "\n",
       "    .dataframe thead th {\n",
       "        text-align: right;\n",
       "    }\n",
       "</style>\n",
       "<table border=\"1\" class=\"dataframe\">\n",
       "  <thead>\n",
       "    <tr style=\"text-align: right;\">\n",
       "      <th></th>\n",
       "      <th>Body_Part</th>\n",
       "      <th>Incidental_Finding</th>\n",
       "      <th>ICD10_code</th>\n",
       "      <th>PFx</th>\n",
       "      <th>PFx_ICD10_code</th>\n",
       "    </tr>\n",
       "  </thead>\n",
       "  <tbody>\n",
       "    <tr>\n",
       "      <th>0</th>\n",
       "      <td>Head</td>\n",
       "      <td>Cerebral cavernous malformation</td>\n",
       "      <td>I67.1</td>\n",
       "      <td>A small cavernous malformation of the brain is...</td>\n",
       "      <td>I67.1</td>\n",
       "    </tr>\n",
       "    <tr>\n",
       "      <th>1</th>\n",
       "      <td>Head</td>\n",
       "      <td>Infundibulum of cerebral artery</td>\n",
       "      <td>Q28.2</td>\n",
       "      <td>An infundibulum detected on an MRI of the brai...</td>\n",
       "      <td>Q28.2</td>\n",
       "    </tr>\n",
       "    <tr>\n",
       "      <th>2</th>\n",
       "      <td>Neck</td>\n",
       "      <td>Tornwaldt cyst</td>\n",
       "      <td>J39.2</td>\n",
       "      <td>A Tornwaldt cyst, often detected incidentally ...</td>\n",
       "      <td>J39.2</td>\n",
       "    </tr>\n",
       "    <tr>\n",
       "      <th>3</th>\n",
       "      <td>Head</td>\n",
       "      <td>Fluid in the right petrous apex</td>\n",
       "      <td>H70.8</td>\n",
       "      <td>A small amount of incidentally found fluid in ...</td>\n",
       "      <td>H70.8</td>\n",
       "    </tr>\n",
       "    <tr>\n",
       "      <th>4</th>\n",
       "      <td>Abdomen</td>\n",
       "      <td>Spinal hemangioma</td>\n",
       "      <td>D18.09</td>\n",
       "      <td>A spinal hemangioma, often found incidentally ...</td>\n",
       "      <td>D18.09</td>\n",
       "    </tr>\n",
       "  </tbody>\n",
       "</table>\n",
       "</div>"
      ],
      "text/plain": [
       "  Body_Part               Incidental_Finding ICD10_code  \\\n",
       "0      Head  Cerebral cavernous malformation      I67.1   \n",
       "1      Head  Infundibulum of cerebral artery      Q28.2   \n",
       "2      Neck                   Tornwaldt cyst      J39.2   \n",
       "3      Head  Fluid in the right petrous apex      H70.8   \n",
       "4   Abdomen                Spinal hemangioma     D18.09   \n",
       "\n",
       "                                                 PFx PFx_ICD10_code  \n",
       "0  A small cavernous malformation of the brain is...          I67.1  \n",
       "1  An infundibulum detected on an MRI of the brai...          Q28.2  \n",
       "2  A Tornwaldt cyst, often detected incidentally ...          J39.2  \n",
       "3  A small amount of incidentally found fluid in ...          H70.8  \n",
       "4  A spinal hemangioma, often found incidentally ...         D18.09  "
      ]
     },
     "execution_count": 4,
     "metadata": {},
     "output_type": "execute_result"
    }
   ],
   "source": [
    "df_fewshot.head()\n"
   ]
  },
  {
   "cell_type": "code",
   "execution_count": 5,
   "metadata": {},
   "outputs": [],
   "source": [
    "df_eval = pd.read_csv('pfx_evaluation_data.csv')"
   ]
  },
  {
   "cell_type": "code",
   "execution_count": 6,
   "metadata": {},
   "outputs": [
    {
     "data": {
      "text/html": [
       "<div>\n",
       "<style scoped>\n",
       "    .dataframe tbody tr th:only-of-type {\n",
       "        vertical-align: middle;\n",
       "    }\n",
       "\n",
       "    .dataframe tbody tr th {\n",
       "        vertical-align: top;\n",
       "    }\n",
       "\n",
       "    .dataframe thead th {\n",
       "        text-align: right;\n",
       "    }\n",
       "</style>\n",
       "<table border=\"1\" class=\"dataframe\">\n",
       "  <thead>\n",
       "    <tr style=\"text-align: right;\">\n",
       "      <th></th>\n",
       "      <th>Body_Part</th>\n",
       "      <th>Incidental_Finding</th>\n",
       "      <th>ICD10_code</th>\n",
       "      <th>Unnamed: 3</th>\n",
       "    </tr>\n",
       "  </thead>\n",
       "  <tbody>\n",
       "    <tr>\n",
       "      <th>0</th>\n",
       "      <td>Head</td>\n",
       "      <td>White matter lesions</td>\n",
       "      <td>R90.82</td>\n",
       "      <td>NaN</td>\n",
       "    </tr>\n",
       "    <tr>\n",
       "      <th>1</th>\n",
       "      <td>Head</td>\n",
       "      <td>Arachnoid cyst</td>\n",
       "      <td>Q04.3</td>\n",
       "      <td>NaN</td>\n",
       "    </tr>\n",
       "    <tr>\n",
       "      <th>2</th>\n",
       "      <td>Head</td>\n",
       "      <td>Pituitary microadenoma</td>\n",
       "      <td>D35.2</td>\n",
       "      <td>NaN</td>\n",
       "    </tr>\n",
       "    <tr>\n",
       "      <th>3</th>\n",
       "      <td>Head</td>\n",
       "      <td>Pineal cyst</td>\n",
       "      <td>Q04.6</td>\n",
       "      <td>NaN</td>\n",
       "    </tr>\n",
       "    <tr>\n",
       "      <th>4</th>\n",
       "      <td>Head</td>\n",
       "      <td>Chiari I malformation</td>\n",
       "      <td>Q07.0</td>\n",
       "      <td>NaN</td>\n",
       "    </tr>\n",
       "  </tbody>\n",
       "</table>\n",
       "</div>"
      ],
      "text/plain": [
       "  Body_Part      Incidental_Finding ICD10_code  Unnamed: 3\n",
       "0      Head    White matter lesions     R90.82         NaN\n",
       "1      Head          Arachnoid cyst      Q04.3         NaN\n",
       "2      Head  Pituitary microadenoma      D35.2         NaN\n",
       "3      Head             Pineal cyst      Q04.6         NaN\n",
       "4      Head   Chiari I malformation      Q07.0         NaN"
      ]
     },
     "execution_count": 6,
     "metadata": {},
     "output_type": "execute_result"
    }
   ],
   "source": [
    "df_eval.head()"
   ]
  },
  {
   "cell_type": "code",
   "execution_count": 7,
   "metadata": {},
   "outputs": [],
   "source": [
    "# https://en.wikipedia.org/wiki/Flesch%E2%80%93Kincaid_readability_tests#Flesch_reading_ease\n",
    "def map_reading_level(flesch_reading_ease):\n",
    "    if flesch_reading_ease < 10:\n",
    "        return PROFESSIONAL\n",
    "    elif 10.0 <= flesch_reading_ease < 30.0:\n",
    "        return COLLEGE_GRADUATE\n",
    "    elif 30.0 <= flesch_reading_ease < 50.0:\n",
    "        return COLLEGE\n",
    "    elif 50.0 <= flesch_reading_ease < 60.0:\n",
    "        return TENTH_TO_TWELTH_GRADE\n",
    "    elif 60.0 <= flesch_reading_ease < 70.0:\n",
    "        return EIGTH_TO_NINTH_GRADE\n",
    "    elif 70.0 <= flesch_reading_ease < 80.0:\n",
    "        return SEVENTH_GRADE\n",
    "    elif 80.0 <= flesch_reading_ease < 90.0:\n",
    "        return SIXTH_GRADE\n",
    "    elif 90.0 <= flesch_reading_ease < 100.0:\n",
    "        return FIFTH_GRADE \n",
    "    else:\n",
    "        return N_A"
   ]
  },
  {
   "cell_type": "code",
   "execution_count": 8,
   "metadata": {},
   "outputs": [],
   "source": [
    "def extract_json(openai_response):\n",
    "    if openai_response:\n",
    "        json_match = re.search(r'```.*(\\{.*?\\}).*```', openai_response.message.content, re.DOTALL)\n",
    "        if json_match:\n",
    "            json_str = json_match.group(1)\n",
    "            # Convert the extracted string to a JSON object\n",
    "            json_object = json.loads(json_str.replace('\\n',''))\n",
    "            #print(json_object)\n",
    "            return json_object\n",
    "        else:\n",
    "            print(\"No JSON object found.\") \n",
    "            return dict()\n",
    "    else:\n",
    "        return None"
   ]
  },
  {
   "cell_type": "code",
   "execution_count": 9,
   "metadata": {},
   "outputs": [],
   "source": [
    "def label_icd10s(pfx_outputs_json):\n",
    "    pfx_icd10_fewshot_examples = \"\"\n",
    "    for i,row in df_fewshot.iterrows():\n",
    "        pfx_icd10_fewshot_examples += icd10_example.format(**row)\n",
    "    \n",
    "    pfx_icd10_codes = []\n",
    "    for pfx_output in pfx_outputs_json:\n",
    "        try:\n",
    "            prompt = baseline_fewshot_icd10_labeling_prompt.format(examples=pfx_icd10_fewshot_examples,PFx=pfx_output['PFx'])\n",
    "        except:\n",
    "            print(pfx_output)\n",
    "        pfx_icd10_response = client.chat.completions.create(\n",
    "                #model=\"gpt-4o-mini\",\n",
    "                model=\"gpt-4o\",\n",
    "                temperature=0.0,\n",
    "                messages=[\n",
    "                    {\"role\": \"system\", \"content\": \"You are an ICD10 medical coder for incidental findings.\" },\n",
    "                    {\"role\": \"user\", \"content\": prompt }\n",
    "                ],\n",
    "                stream=False,\n",
    "            )\n",
    "        pfx_icd10_codes.append(pfx_icd10_response.choices[0])\n",
    "    return list(map(extract_json,pfx_icd10_codes))"
   ]
  },
  {
   "cell_type": "code",
   "execution_count": 10,
   "metadata": {},
   "outputs": [],
   "source": [
    "pfx_zeroshot_outputs = []\n",
    "for i,row in df_eval.iloc[:].iterrows():\n",
    "    #print(baseline_fewshot_prompt.format(examples=pfx_fewshot_examples,Incidental_Finding=row['Incidental_Finding']))\n",
    "    prompt = baseline_zeroshot_prompt.format(Incidental_Finding=row['Incidental_Finding'],Reading_Level=TENTH_TO_TWELTH_GRADE)\n",
    "    pfx_response = client.chat.completions.create(\n",
    "        #model=\"gpt-4o-mini\",\n",
    "        model=\"gpt-4o\",\n",
    "        temperature=0.0,\n",
    "        messages=[\n",
    "            {\"role\": \"system\", \"content\": \"You are a medical doctor rephrasing and explaining medical terminology to a patient.\" },\n",
    "            {\"role\": \"user\", \"content\": prompt }\n",
    "        ],\n",
    "        stream=False,\n",
    "    )\n",
    "    \n",
    "    pfx_zeroshot_outputs.append(pfx_response.choices[0])"
   ]
  },
  {
   "cell_type": "code",
   "execution_count": 11,
   "metadata": {},
   "outputs": [],
   "source": [
    "pfx_zeroshot_outputs_json = list(map(extract_json,pfx_zeroshot_outputs))\n",
    "#pfx_zeroshot_outputs_json\n"
   ]
  },
  {
   "cell_type": "code",
   "execution_count": 12,
   "metadata": {},
   "outputs": [],
   "source": [
    "pfx_zeroshot_output_df = pd.DataFrame(pfx_zeroshot_outputs_json)\n",
    "pfx_zeroshot_outputs_icd10_labels = label_icd10s(pfx_zeroshot_outputs_json)"
   ]
  },
  {
   "cell_type": "code",
   "execution_count": 13,
   "metadata": {},
   "outputs": [],
   "source": [
    "pfx_zeroshot_output_df['_0_agent_icd10_codes'] = list(map(lambda x: list(x.values())[0] if x else \"\", pfx_zeroshot_outputs_icd10_labels))"
   ]
  },
  {
   "cell_type": "code",
   "execution_count": 14,
   "metadata": {},
   "outputs": [],
   "source": [
    "pfx_zeroshot_output_df[\"_0_icd10_matches\"]= pfx_zeroshot_output_df.ICD10_code == pfx_zeroshot_output_df._0_agent_icd10_codes\n",
    "pfx_zeroshot_output_df[\"_0_flesch\"] = pfx_zeroshot_output_df['PFx'].apply(textstat.flesch_reading_ease)\n",
    "pfx_zeroshot_output_df[\"_0_reading_level\"] = pfx_zeroshot_output_df['_0_flesch'].apply(map_reading_level)\n",
    "pfx_zeroshot_output_df[\"_0_reading_level_matches\"] = pfx_zeroshot_output_df['_0_reading_level'] == TENTH_TO_TWELTH_GRADE"
   ]
  },
  {
   "cell_type": "code",
   "execution_count": 15,
   "metadata": {},
   "outputs": [
    {
     "data": {
      "text/html": [
       "<div>\n",
       "<style scoped>\n",
       "    .dataframe tbody tr th:only-of-type {\n",
       "        vertical-align: middle;\n",
       "    }\n",
       "\n",
       "    .dataframe tbody tr th {\n",
       "        vertical-align: top;\n",
       "    }\n",
       "\n",
       "    .dataframe thead th {\n",
       "        text-align: right;\n",
       "    }\n",
       "</style>\n",
       "<table border=\"1\" class=\"dataframe\">\n",
       "  <thead>\n",
       "    <tr style=\"text-align: right;\">\n",
       "      <th></th>\n",
       "      <th>finding</th>\n",
       "      <th>ICD10_code</th>\n",
       "      <th>PFx</th>\n",
       "      <th>PFx_ICD10_code</th>\n",
       "      <th>_0_agent_icd10_codes</th>\n",
       "      <th>_0_icd10_matches</th>\n",
       "      <th>_0_flesch</th>\n",
       "      <th>_0_reading_level</th>\n",
       "      <th>_0_reading_level_matches</th>\n",
       "    </tr>\n",
       "  </thead>\n",
       "  <tbody>\n",
       "    <tr>\n",
       "      <th>0</th>\n",
       "      <td>White matter lesions</td>\n",
       "      <td>R90.82</td>\n",
       "      <td>White matter lesions are small areas of damage...</td>\n",
       "      <td>R90.82</td>\n",
       "      <td>R90.82</td>\n",
       "      <td>True</td>\n",
       "      <td>50.16</td>\n",
       "      <td>10th to 12th grade</td>\n",
       "      <td>True</td>\n",
       "    </tr>\n",
       "    <tr>\n",
       "      <th>1</th>\n",
       "      <td>Arachnoid cyst</td>\n",
       "      <td>G93.0</td>\n",
       "      <td>An arachnoid cyst is a fluid-filled sac that f...</td>\n",
       "      <td>G93.0</td>\n",
       "      <td>Q04.6</td>\n",
       "      <td>False</td>\n",
       "      <td>67.59</td>\n",
       "      <td>8th to 9th grade</td>\n",
       "      <td>False</td>\n",
       "    </tr>\n",
       "    <tr>\n",
       "      <th>2</th>\n",
       "      <td>Pituitary microadenoma</td>\n",
       "      <td>D35.2</td>\n",
       "      <td>A pituitary microadenoma is a small, non-cance...</td>\n",
       "      <td>D35.2</td>\n",
       "      <td>D35.2</td>\n",
       "      <td>True</td>\n",
       "      <td>50.87</td>\n",
       "      <td>10th to 12th grade</td>\n",
       "      <td>True</td>\n",
       "    </tr>\n",
       "    <tr>\n",
       "      <th>3</th>\n",
       "      <td>Pineal cyst</td>\n",
       "      <td>Q04.6</td>\n",
       "      <td>A pineal cyst is a small, fluid-filled sac loc...</td>\n",
       "      <td>Q04.6</td>\n",
       "      <td>Q04.8</td>\n",
       "      <td>False</td>\n",
       "      <td>67.79</td>\n",
       "      <td>8th to 9th grade</td>\n",
       "      <td>False</td>\n",
       "    </tr>\n",
       "    <tr>\n",
       "      <th>4</th>\n",
       "      <td>Chiari I malformation</td>\n",
       "      <td>Q07.0</td>\n",
       "      <td>Chiari I malformation is a condition where the...</td>\n",
       "      <td>Q07.0</td>\n",
       "      <td>Q07.0</td>\n",
       "      <td>True</td>\n",
       "      <td>72.56</td>\n",
       "      <td>7th grade</td>\n",
       "      <td>False</td>\n",
       "    </tr>\n",
       "  </tbody>\n",
       "</table>\n",
       "</div>"
      ],
      "text/plain": [
       "                  finding ICD10_code  \\\n",
       "0    White matter lesions     R90.82   \n",
       "1          Arachnoid cyst      G93.0   \n",
       "2  Pituitary microadenoma      D35.2   \n",
       "3             Pineal cyst      Q04.6   \n",
       "4   Chiari I malformation      Q07.0   \n",
       "\n",
       "                                                 PFx PFx_ICD10_code  \\\n",
       "0  White matter lesions are small areas of damage...         R90.82   \n",
       "1  An arachnoid cyst is a fluid-filled sac that f...          G93.0   \n",
       "2  A pituitary microadenoma is a small, non-cance...          D35.2   \n",
       "3  A pineal cyst is a small, fluid-filled sac loc...          Q04.6   \n",
       "4  Chiari I malformation is a condition where the...          Q07.0   \n",
       "\n",
       "  _0_agent_icd10_codes  _0_icd10_matches  _0_flesch    _0_reading_level  \\\n",
       "0               R90.82              True      50.16  10th to 12th grade   \n",
       "1                Q04.6             False      67.59    8th to 9th grade   \n",
       "2                D35.2              True      50.87  10th to 12th grade   \n",
       "3                Q04.8             False      67.79    8th to 9th grade   \n",
       "4                Q07.0              True      72.56           7th grade   \n",
       "\n",
       "   _0_reading_level_matches  \n",
       "0                      True  \n",
       "1                     False  \n",
       "2                      True  \n",
       "3                     False  \n",
       "4                     False  "
      ]
     },
     "execution_count": 15,
     "metadata": {},
     "output_type": "execute_result"
    }
   ],
   "source": [
    "pfx_zeroshot_output_df.head()\n"
   ]
  },
  {
   "cell_type": "code",
   "execution_count": 16,
   "metadata": {},
   "outputs": [
    {
     "data": {
      "text/plain": [
       "0.84"
      ]
     },
     "execution_count": 16,
     "metadata": {},
     "output_type": "execute_result"
    }
   ],
   "source": [
    "#icd10 accuracy -- at least according to GPT4o\n",
    "sum(pfx_zeroshot_output_df[\"_0_icd10_matches\"])/len(pfx_zeroshot_output_df.index)"
   ]
  },
  {
   "cell_type": "code",
   "execution_count": 17,
   "metadata": {},
   "outputs": [
    {
     "data": {
      "text/plain": [
       "finding                     19\n",
       "ICD10_code                  19\n",
       "PFx                         19\n",
       "PFx_ICD10_code              19\n",
       "_0_agent_icd10_codes        19\n",
       "_0_icd10_matches            19\n",
       "_0_flesch                   19\n",
       "_0_reading_level            19\n",
       "_0_reading_level_matches    19\n",
       "dtype: int64"
      ]
     },
     "execution_count": 17,
     "metadata": {},
     "output_type": "execute_result"
    }
   ],
   "source": [
    "pfx_zeroshot_output_df[pfx_zeroshot_output_df._0_reading_level != TENTH_TO_TWELTH_GRADE].count()"
   ]
  },
  {
   "cell_type": "code",
   "execution_count": 18,
   "metadata": {},
   "outputs": [],
   "source": [
    "pfx_zeroshot_outputs_w_reflexion = []\n",
    "for i,row in pfx_zeroshot_output_df.iloc[:].iterrows():\n",
    "    #print(baseline_fewshot_prompt.format(examples=pfx_fewshot_examples,Incidental_Finding=row['Incidental_Finding']))\n",
    "    if row['_0_reading_level'] != TENTH_TO_TWELTH_GRADE:\n",
    "        \"\"\"```{{\"Incidental_Finding\":\"{Incidental_Finding}\", \"ICD10_code\":\"{ICD10_code}\", \"PFx\":\"{PFx}\", \"PFx_ICD10_code\":\"{PFx_ICD10_code}\"}}```\n",
    "</PFx>\n",
    "\n",
    "The PFx above was at a {_0_reading_level} instead of a {Reading_Level} Flesch-Kincaid reading level. Please try again.\n",
    "\"\"\" \n",
    "        prompt = zeroshot_prompt_reflexion_reading_level_error.format(\n",
    "            Incidental_Finding=row['finding'],\n",
    "            Reading_Level=TENTH_TO_TWELTH_GRADE,\n",
    "            ICD10_code=row['ICD10_code'],\n",
    "            _0_reading_level=row['_0_reading_level'],\n",
    "            PFx=row['PFx'],\n",
    "            PFx_ICD10_code=row['PFx_ICD10_code'])\n",
    "        pfx_response = client.chat.completions.create(\n",
    "            #model=\"gpt-4o-mini\",\n",
    "            model=\"gpt-4o\",\n",
    "            temperature=0.0,\n",
    "            messages=[\n",
    "                {\"role\": \"system\", \"content\": \"You are a medical doctor rephrasing and explaining medical terminology to a patient.\" },\n",
    "                {\"role\": \"user\", \"content\": prompt }\n",
    "            ],\n",
    "            stream=False,\n",
    "        )\n",
    "        pfx_zeroshot_outputs_w_reflexion.append(pfx_response.choices[0])\n",
    "    else:\n",
    "        pfx_zeroshot_outputs_w_reflexion.append(None)"
   ]
  },
  {
   "cell_type": "code",
   "execution_count": 19,
   "metadata": {},
   "outputs": [],
   "source": [
    "pfx_zeroshot_outputs_w_reflexion_json = list(map(extract_json,filter(lambda x: x,pfx_zeroshot_outputs_w_reflexion)))"
   ]
  },
  {
   "cell_type": "code",
   "execution_count": 20,
   "metadata": {},
   "outputs": [],
   "source": [
    "pfx_zeroshot_outputs_w_reflexion_df = pd.DataFrame(pfx_zeroshot_outputs_w_reflexion_json)\n",
    "pfx_zeroshot_outputs_w_reflexion_icd10_labels = label_icd10s(pfx_zeroshot_outputs_w_reflexion_json)"
   ]
  },
  {
   "cell_type": "code",
   "execution_count": 22,
   "metadata": {},
   "outputs": [
    {
     "data": {
      "text/html": [
       "<div>\n",
       "<style scoped>\n",
       "    .dataframe tbody tr th:only-of-type {\n",
       "        vertical-align: middle;\n",
       "    }\n",
       "\n",
       "    .dataframe tbody tr th {\n",
       "        vertical-align: top;\n",
       "    }\n",
       "\n",
       "    .dataframe thead th {\n",
       "        text-align: right;\n",
       "    }\n",
       "</style>\n",
       "<table border=\"1\" class=\"dataframe\">\n",
       "  <thead>\n",
       "    <tr style=\"text-align: right;\">\n",
       "      <th></th>\n",
       "      <th>finding</th>\n",
       "      <th>ICD10_code</th>\n",
       "      <th>PFx</th>\n",
       "      <th>PFx_ICD10_code</th>\n",
       "      <th>_1_agent_icd10_codes</th>\n",
       "      <th>_1_icd10_matches</th>\n",
       "      <th>_1_flesch</th>\n",
       "      <th>_1_reading_level</th>\n",
       "      <th>_1_reading_level_matches</th>\n",
       "    </tr>\n",
       "  </thead>\n",
       "  <tbody>\n",
       "    <tr>\n",
       "      <th>0</th>\n",
       "      <td>Arachnoid cyst</td>\n",
       "      <td>G93.0</td>\n",
       "      <td>An arachnoid cyst is a fluid-filled sac that d...</td>\n",
       "      <td>G93.0</td>\n",
       "      <td>G93.0</td>\n",
       "      <td>True</td>\n",
       "      <td>49.65</td>\n",
       "      <td>College</td>\n",
       "      <td>False</td>\n",
       "    </tr>\n",
       "    <tr>\n",
       "      <th>1</th>\n",
       "      <td>Pineal cyst</td>\n",
       "      <td>Q04.6</td>\n",
       "      <td>A pineal cyst is a small, fluid-filled sac tha...</td>\n",
       "      <td>Q04.6</td>\n",
       "      <td>Q04.8</td>\n",
       "      <td>False</td>\n",
       "      <td>53.00</td>\n",
       "      <td>10th to 12th grade</td>\n",
       "      <td>True</td>\n",
       "    </tr>\n",
       "    <tr>\n",
       "      <th>2</th>\n",
       "      <td>Chiari I malformation</td>\n",
       "      <td>Q07.0</td>\n",
       "      <td>Chiari I malformation is a structural defect i...</td>\n",
       "      <td>Q07.0</td>\n",
       "      <td>Q07.0</td>\n",
       "      <td>True</td>\n",
       "      <td>61.26</td>\n",
       "      <td>8th to 9th grade</td>\n",
       "      <td>False</td>\n",
       "    </tr>\n",
       "    <tr>\n",
       "      <th>3</th>\n",
       "      <td>Thyroid nodule</td>\n",
       "      <td>E04.1</td>\n",
       "      <td>A thyroid nodule is a small, abnormal growth w...</td>\n",
       "      <td>R22.1</td>\n",
       "      <td>E04.1</td>\n",
       "      <td>True</td>\n",
       "      <td>42.92</td>\n",
       "      <td>College</td>\n",
       "      <td>False</td>\n",
       "    </tr>\n",
       "    <tr>\n",
       "      <th>4</th>\n",
       "      <td>Cervical lymphadenopathy</td>\n",
       "      <td>R59.0</td>\n",
       "      <td>Cervical lymphadenopathy refers to the swellin...</td>\n",
       "      <td>R59.0</td>\n",
       "      <td>R59.0</td>\n",
       "      <td>True</td>\n",
       "      <td>44.75</td>\n",
       "      <td>College</td>\n",
       "      <td>False</td>\n",
       "    </tr>\n",
       "  </tbody>\n",
       "</table>\n",
       "</div>"
      ],
      "text/plain": [
       "                    finding ICD10_code  \\\n",
       "0            Arachnoid cyst      G93.0   \n",
       "1               Pineal cyst      Q04.6   \n",
       "2     Chiari I malformation      Q07.0   \n",
       "3            Thyroid nodule      E04.1   \n",
       "4  Cervical lymphadenopathy      R59.0   \n",
       "\n",
       "                                                 PFx PFx_ICD10_code  \\\n",
       "0  An arachnoid cyst is a fluid-filled sac that d...          G93.0   \n",
       "1  A pineal cyst is a small, fluid-filled sac tha...          Q04.6   \n",
       "2  Chiari I malformation is a structural defect i...          Q07.0   \n",
       "3  A thyroid nodule is a small, abnormal growth w...          R22.1   \n",
       "4  Cervical lymphadenopathy refers to the swellin...          R59.0   \n",
       "\n",
       "  _1_agent_icd10_codes  _1_icd10_matches  _1_flesch    _1_reading_level  \\\n",
       "0                G93.0              True      49.65             College   \n",
       "1                Q04.8             False      53.00  10th to 12th grade   \n",
       "2                Q07.0              True      61.26    8th to 9th grade   \n",
       "3                E04.1              True      42.92             College   \n",
       "4                R59.0              True      44.75             College   \n",
       "\n",
       "   _1_reading_level_matches  \n",
       "0                     False  \n",
       "1                      True  \n",
       "2                     False  \n",
       "3                     False  \n",
       "4                     False  "
      ]
     },
     "execution_count": 22,
     "metadata": {},
     "output_type": "execute_result"
    }
   ],
   "source": [
    "pfx_zeroshot_outputs_w_reflexion_df['_1_agent_icd10_codes'] = list(map(lambda x: list(x.values())[0] if x else \"\", pfx_zeroshot_outputs_w_reflexion_icd10_labels))\n",
    "pfx_zeroshot_outputs_w_reflexion_df[\"_1_icd10_matches\"]= pfx_zeroshot_outputs_w_reflexion_df.ICD10_code == pfx_zeroshot_outputs_w_reflexion_df._1_agent_icd10_codes\n",
    "pfx_zeroshot_outputs_w_reflexion_df[\"_1_flesch\"] = pfx_zeroshot_outputs_w_reflexion_df['PFx'].apply(textstat.flesch_reading_ease)\n",
    "pfx_zeroshot_outputs_w_reflexion_df[\"_1_reading_level\"] = pfx_zeroshot_outputs_w_reflexion_df['_1_flesch'].apply(map_reading_level)\n",
    "pfx_zeroshot_outputs_w_reflexion_df[\"_1_reading_level_matches\"] = pfx_zeroshot_outputs_w_reflexion_df['_1_reading_level'] == TENTH_TO_TWELTH_GRADE\n",
    "pfx_zeroshot_outputs_w_reflexion_df.head()\n"
   ]
  },
  {
   "cell_type": "code",
   "execution_count": 23,
   "metadata": {},
   "outputs": [
    {
     "data": {
      "text/plain": [
       "finding                     15\n",
       "ICD10_code                  15\n",
       "PFx                         15\n",
       "PFx_ICD10_code              15\n",
       "_1_agent_icd10_codes        15\n",
       "_1_icd10_matches            15\n",
       "_1_flesch                   15\n",
       "_1_reading_level            15\n",
       "_1_reading_level_matches    15\n",
       "dtype: int64"
      ]
     },
     "execution_count": 23,
     "metadata": {},
     "output_type": "execute_result"
    }
   ],
   "source": [
    "pfx_zeroshot_outputs_w_reflexion_df[pfx_zeroshot_outputs_w_reflexion_df._1_reading_level != TENTH_TO_TWELTH_GRADE].count()"
   ]
  },
  {
   "cell_type": "code",
   "execution_count": 24,
   "metadata": {},
   "outputs": [
    {
     "data": {
      "text/plain": [
       "0.8421052631578947"
      ]
     },
     "execution_count": 24,
     "metadata": {},
     "output_type": "execute_result"
    }
   ],
   "source": [
    "sum(pfx_zeroshot_outputs_w_reflexion_df[\"_1_icd10_matches\"])/len(pfx_zeroshot_outputs_w_reflexion_df.index)"
   ]
  },
  {
   "cell_type": "code",
   "execution_count": null,
   "metadata": {},
   "outputs": [],
   "source": []
  },
  {
   "cell_type": "code",
   "execution_count": 26,
   "metadata": {},
   "outputs": [],
   "source": [
    "pfx_fewshot_examples = \"\"\n",
    "for i,row in df_fewshot.iterrows():\n",
    "    pfx_fewshot_examples += example.format(**row)\n",
    "\n",
    "pfx_fewshot_outputs = []\n",
    "for i,row in df_eval.iloc[:].iterrows():\n",
    "    #print(baseline_fewshot_prompt.format(examples=pfx_fewshot_examples,Incidental_Finding=row['Incidental_Finding']))\n",
    "    prompt = baseline_fewshot_prompt.format(examples=pfx_fewshot_examples,Incidental_Finding=row['Incidental_Finding'],Reading_Level=TENTH_TO_TWELTH_GRADE)\n",
    "    pfx_response = client.chat.completions.create(\n",
    "        #model=\"gpt-4o-mini\",\n",
    "        model=\"gpt-4o\",\n",
    "        temperature=0.0,\n",
    "        messages=[\n",
    "            {\"role\": \"system\", \"content\": \"You are a medical doctor rephrasing and explaining medical terminology to a patient.\" },\n",
    "            {\"role\": \"user\", \"content\": prompt }\n",
    "        ],\n",
    "        stream=False,\n",
    "    )\n",
    "    \n",
    "    pfx_fewshot_outputs.append(pfx_response.choices[0])"
   ]
  },
  {
   "cell_type": "code",
   "execution_count": 27,
   "metadata": {},
   "outputs": [],
   "source": [
    "pfx_fewshot_outputs_json = list(map(extract_json,pfx_fewshot_outputs))\n",
    "pfx_fewshot_outputs_icd10_labels = label_icd10s(pfx_fewshot_outputs_json)"
   ]
  },
  {
   "cell_type": "code",
   "execution_count": 28,
   "metadata": {},
   "outputs": [],
   "source": [
    "pfx_fewshot_output_df = pd.DataFrame(pfx_fewshot_outputs_json)\n",
    "pfx_fewshot_output_df['_0_agent_icd10_codes'] = list(map(lambda x: list(x.values())[0] if x else \"\",pfx_fewshot_outputs_icd10_labels))\n",
    "pfx_fewshot_output_df[\"_0_icd10_matches\"]= pfx_fewshot_output_df.ICD10_code == pfx_fewshot_output_df._0_agent_icd10_codes\n",
    "pfx_fewshot_output_df[\"_0_flesch\"] = pfx_fewshot_output_df['PFx'].apply(textstat.flesch_reading_ease)\n",
    "pfx_fewshot_output_df[\"_0_reading_level\"] = pfx_fewshot_output_df['_0_flesch'].apply(map_reading_level)"
   ]
  },
  {
   "cell_type": "code",
   "execution_count": 29,
   "metadata": {},
   "outputs": [
    {
     "data": {
      "text/plain": [
       "0.8"
      ]
     },
     "execution_count": 29,
     "metadata": {},
     "output_type": "execute_result"
    }
   ],
   "source": [
    "sum(pfx_fewshot_output_df[\"_0_icd10_matches\"])/len(pfx_fewshot_output_df.index)"
   ]
  },
  {
   "cell_type": "code",
   "execution_count": 30,
   "metadata": {},
   "outputs": [
    {
     "data": {
      "text/html": [
       "<div>\n",
       "<style scoped>\n",
       "    .dataframe tbody tr th:only-of-type {\n",
       "        vertical-align: middle;\n",
       "    }\n",
       "\n",
       "    .dataframe tbody tr th {\n",
       "        vertical-align: top;\n",
       "    }\n",
       "\n",
       "    .dataframe thead th {\n",
       "        text-align: right;\n",
       "    }\n",
       "</style>\n",
       "<table border=\"1\" class=\"dataframe\">\n",
       "  <thead>\n",
       "    <tr style=\"text-align: right;\">\n",
       "      <th></th>\n",
       "      <th>Incidental_Finding</th>\n",
       "      <th>ICD10_code</th>\n",
       "      <th>PFx</th>\n",
       "      <th>PFx_ICD10_code</th>\n",
       "      <th>_0_agent_icd10_codes</th>\n",
       "      <th>_0_icd10_matches</th>\n",
       "      <th>_0_flesch</th>\n",
       "      <th>_0_reading_level</th>\n",
       "    </tr>\n",
       "  </thead>\n",
       "  <tbody>\n",
       "    <tr>\n",
       "      <th>0</th>\n",
       "      <td>White matter lesions</td>\n",
       "      <td>R90.82</td>\n",
       "      <td>White matter lesions, often found incidentally...</td>\n",
       "      <td>R90.82</td>\n",
       "      <td>R90.82</td>\n",
       "      <td>True</td>\n",
       "      <td>39.37</td>\n",
       "      <td>College</td>\n",
       "    </tr>\n",
       "    <tr>\n",
       "      <th>1</th>\n",
       "      <td>Arachnoid cyst</td>\n",
       "      <td>Q04.3</td>\n",
       "      <td>An arachnoid cyst is a fluid-filled sac that i...</td>\n",
       "      <td>Q04.3</td>\n",
       "      <td>Q04.6</td>\n",
       "      <td>False</td>\n",
       "      <td>55.03</td>\n",
       "      <td>10th to 12th grade</td>\n",
       "    </tr>\n",
       "    <tr>\n",
       "      <th>2</th>\n",
       "      <td>Pituitary microadenoma</td>\n",
       "      <td>D35.2</td>\n",
       "      <td>A pituitary microadenoma is a small, benign tu...</td>\n",
       "      <td>D35.2</td>\n",
       "      <td>D35.2</td>\n",
       "      <td>True</td>\n",
       "      <td>30.20</td>\n",
       "      <td>College</td>\n",
       "    </tr>\n",
       "    <tr>\n",
       "      <th>3</th>\n",
       "      <td>Pineal cyst</td>\n",
       "      <td>Q04.6</td>\n",
       "      <td>A pineal cyst is a fluid-filled sac located in...</td>\n",
       "      <td>Q04.6</td>\n",
       "      <td>Q04.8</td>\n",
       "      <td>False</td>\n",
       "      <td>50.87</td>\n",
       "      <td>10th to 12th grade</td>\n",
       "    </tr>\n",
       "    <tr>\n",
       "      <th>4</th>\n",
       "      <td>Chiari I malformation</td>\n",
       "      <td>Q07.0</td>\n",
       "      <td>A Chiari I malformation is a condition where t...</td>\n",
       "      <td>Q07.0</td>\n",
       "      <td>Q07.0</td>\n",
       "      <td>True</td>\n",
       "      <td>30.70</td>\n",
       "      <td>College</td>\n",
       "    </tr>\n",
       "  </tbody>\n",
       "</table>\n",
       "</div>"
      ],
      "text/plain": [
       "       Incidental_Finding ICD10_code  \\\n",
       "0    White matter lesions     R90.82   \n",
       "1          Arachnoid cyst      Q04.3   \n",
       "2  Pituitary microadenoma      D35.2   \n",
       "3             Pineal cyst      Q04.6   \n",
       "4   Chiari I malformation      Q07.0   \n",
       "\n",
       "                                                 PFx PFx_ICD10_code  \\\n",
       "0  White matter lesions, often found incidentally...         R90.82   \n",
       "1  An arachnoid cyst is a fluid-filled sac that i...          Q04.3   \n",
       "2  A pituitary microadenoma is a small, benign tu...          D35.2   \n",
       "3  A pineal cyst is a fluid-filled sac located in...          Q04.6   \n",
       "4  A Chiari I malformation is a condition where t...          Q07.0   \n",
       "\n",
       "  _0_agent_icd10_codes  _0_icd10_matches  _0_flesch    _0_reading_level  \n",
       "0               R90.82              True      39.37             College  \n",
       "1                Q04.6             False      55.03  10th to 12th grade  \n",
       "2                D35.2              True      30.20             College  \n",
       "3                Q04.8             False      50.87  10th to 12th grade  \n",
       "4                Q07.0              True      30.70             College  "
      ]
     },
     "execution_count": 30,
     "metadata": {},
     "output_type": "execute_result"
    }
   ],
   "source": [
    "pfx_fewshot_output_df.head()"
   ]
  },
  {
   "cell_type": "code",
   "execution_count": 31,
   "metadata": {},
   "outputs": [
    {
     "data": {
      "text/plain": [
       "Incidental_Finding      18\n",
       "ICD10_code              18\n",
       "PFx                     18\n",
       "PFx_ICD10_code          18\n",
       "_0_agent_icd10_codes    18\n",
       "_0_icd10_matches        18\n",
       "_0_flesch               18\n",
       "_0_reading_level        18\n",
       "dtype: int64"
      ]
     },
     "execution_count": 31,
     "metadata": {},
     "output_type": "execute_result"
    }
   ],
   "source": [
    "pfx_fewshot_output_df[pfx_fewshot_output_df._0_reading_level != TENTH_TO_TWELTH_GRADE].count()"
   ]
  },
  {
   "cell_type": "code",
   "execution_count": 34,
   "metadata": {},
   "outputs": [
    {
     "data": {
      "text/plain": [
       "Incidental_Finding      16\n",
       "ICD10_code              16\n",
       "PFx                     16\n",
       "PFx_ICD10_code          16\n",
       "_0_agent_icd10_codes    16\n",
       "_0_icd10_matches        16\n",
       "_0_flesch               16\n",
       "_0_reading_level        16\n",
       "dtype: int64"
      ]
     },
     "execution_count": 34,
     "metadata": {},
     "output_type": "execute_result"
    }
   ],
   "source": [
    "pfx_fewshot_output_df[pfx_fewshot_output_df._0_flesch < 50].count()"
   ]
  },
  {
   "cell_type": "code",
   "execution_count": null,
   "metadata": {},
   "outputs": [],
   "source": []
  }
 ],
 "metadata": {
  "kernelspec": {
   "display_name": "Python 3 (ipykernel)",
   "language": "python",
   "name": "python3"
  },
  "language_info": {
   "codemirror_mode": {
    "name": "ipython",
    "version": 3
   },
   "file_extension": ".py",
   "mimetype": "text/x-python",
   "name": "python",
   "nbconvert_exporter": "python",
   "pygments_lexer": "ipython3",
   "version": "3.10.13"
  },
  "vscode": {
   "interpreter": {
    "hash": "e23f799cbd2581634725fbf6ce3480ae26192d78438dfafc8efe944acd6490d5"
   }
  }
 },
 "nbformat": 4,
 "nbformat_minor": 4
}
