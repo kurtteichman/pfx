{
 "cells": [
  {
   "cell_type": "code",
   "execution_count": 1,
   "metadata": {},
   "outputs": [],
   "source": [
    "### PFX prototyping"
   ]
  },
  {
   "cell_type": "code",
   "execution_count": 1,
   "metadata": {},
   "outputs": [],
   "source": [
    "import pandas as pd\n",
    "import os\n",
    "from readability import Readability\n",
    "import textstat\n",
    "from openai import OpenAI\n",
    "import json\n",
    "import re\n",
    "from pfx_prompts import baseline_fewshot_prompt,example,baseline_fewshot_icd10_labeling_prompt,icd10_example,baseline_zeroshot_prompt\n",
    "client = OpenAI()"
   ]
  },
  {
   "cell_type": "code",
   "execution_count": 2,
   "metadata": {},
   "outputs": [],
   "source": [
    "# reading levels\n",
    "PROFESSIONAL = \"Professional\"\n",
    "COLLEGE_GRADUATE = \"College graduate\"\n",
    "COLLEGE = \"College\"\n",
    "TENTH_TO_TWELTH_GRADE = \"10th to 12th grade\"\n",
    "EIGTH_TO_NINTH_GRADE = \"8th to 9th grade\"\n",
    "SEVENTH_GRADE = \"7th grade\"\n",
    "SIXTH_GRADE = \"6th grade\"\n",
    "FIFTH_GRADE = \"5th grade\"\n",
    "N_A = \"N/A\"\n"
   ]
  },
  {
   "cell_type": "code",
   "execution_count": 3,
   "metadata": {},
   "outputs": [],
   "source": [
    "df_fewshot = pd.read_csv('pfx_fewshot_examples_college.csv')"
   ]
  },
  {
   "cell_type": "code",
   "execution_count": 4,
   "metadata": {},
   "outputs": [
    {
     "data": {
      "text/html": [
       "<div>\n",
       "<style scoped>\n",
       "    .dataframe tbody tr th:only-of-type {\n",
       "        vertical-align: middle;\n",
       "    }\n",
       "\n",
       "    .dataframe tbody tr th {\n",
       "        vertical-align: top;\n",
       "    }\n",
       "\n",
       "    .dataframe thead th {\n",
       "        text-align: right;\n",
       "    }\n",
       "</style>\n",
       "<table border=\"1\" class=\"dataframe\">\n",
       "  <thead>\n",
       "    <tr style=\"text-align: right;\">\n",
       "      <th></th>\n",
       "      <th>Body_Part</th>\n",
       "      <th>Incidental_Finding</th>\n",
       "      <th>ICD10_code</th>\n",
       "      <th>PFx</th>\n",
       "      <th>PFx_ICD10_code</th>\n",
       "    </tr>\n",
       "  </thead>\n",
       "  <tbody>\n",
       "    <tr>\n",
       "      <th>0</th>\n",
       "      <td>Head</td>\n",
       "      <td>Cerebral cavernous malformation</td>\n",
       "      <td>I67.1</td>\n",
       "      <td>A small cavernous malformation of the brain is...</td>\n",
       "      <td>I67.1</td>\n",
       "    </tr>\n",
       "    <tr>\n",
       "      <th>1</th>\n",
       "      <td>Head</td>\n",
       "      <td>Infundibulum of cerebral artery</td>\n",
       "      <td>Q28.2</td>\n",
       "      <td>An infundibulum detected on an MRI of the brai...</td>\n",
       "      <td>Q28.2</td>\n",
       "    </tr>\n",
       "    <tr>\n",
       "      <th>2</th>\n",
       "      <td>Neck</td>\n",
       "      <td>Tornwaldt cyst</td>\n",
       "      <td>J39.2</td>\n",
       "      <td>A Tornwaldt cyst, often detected incidentally ...</td>\n",
       "      <td>J39.2</td>\n",
       "    </tr>\n",
       "    <tr>\n",
       "      <th>3</th>\n",
       "      <td>Head</td>\n",
       "      <td>Fluid in the right petrous apex</td>\n",
       "      <td>H70.8</td>\n",
       "      <td>A small amount of incidentally found fluid in ...</td>\n",
       "      <td>H70.8</td>\n",
       "    </tr>\n",
       "    <tr>\n",
       "      <th>4</th>\n",
       "      <td>Abdomen</td>\n",
       "      <td>Spinal hemangioma</td>\n",
       "      <td>D18.09</td>\n",
       "      <td>A spinal hemangioma, often found incidentally ...</td>\n",
       "      <td>D18.09</td>\n",
       "    </tr>\n",
       "  </tbody>\n",
       "</table>\n",
       "</div>"
      ],
      "text/plain": [
       "  Body_Part               Incidental_Finding ICD10_code  \\\n",
       "0      Head  Cerebral cavernous malformation      I67.1   \n",
       "1      Head  Infundibulum of cerebral artery      Q28.2   \n",
       "2      Neck                   Tornwaldt cyst      J39.2   \n",
       "3      Head  Fluid in the right petrous apex      H70.8   \n",
       "4   Abdomen                Spinal hemangioma     D18.09   \n",
       "\n",
       "                                                 PFx PFx_ICD10_code  \n",
       "0  A small cavernous malformation of the brain is...          I67.1  \n",
       "1  An infundibulum detected on an MRI of the brai...          Q28.2  \n",
       "2  A Tornwaldt cyst, often detected incidentally ...          J39.2  \n",
       "3  A small amount of incidentally found fluid in ...          H70.8  \n",
       "4  A spinal hemangioma, often found incidentally ...         D18.09  "
      ]
     },
     "execution_count": 4,
     "metadata": {},
     "output_type": "execute_result"
    }
   ],
   "source": [
    "df_fewshot.head()\n"
   ]
  },
  {
   "cell_type": "code",
   "execution_count": 5,
   "metadata": {},
   "outputs": [],
   "source": [
    "df_eval = pd.read_csv('pfx_evaluation_data.csv')"
   ]
  },
  {
   "cell_type": "code",
   "execution_count": 6,
   "metadata": {},
   "outputs": [
    {
     "data": {
      "text/html": [
       "<div>\n",
       "<style scoped>\n",
       "    .dataframe tbody tr th:only-of-type {\n",
       "        vertical-align: middle;\n",
       "    }\n",
       "\n",
       "    .dataframe tbody tr th {\n",
       "        vertical-align: top;\n",
       "    }\n",
       "\n",
       "    .dataframe thead th {\n",
       "        text-align: right;\n",
       "    }\n",
       "</style>\n",
       "<table border=\"1\" class=\"dataframe\">\n",
       "  <thead>\n",
       "    <tr style=\"text-align: right;\">\n",
       "      <th></th>\n",
       "      <th>Body_Part</th>\n",
       "      <th>Incidental_Finding</th>\n",
       "      <th>ICD10_code</th>\n",
       "      <th>Unnamed: 3</th>\n",
       "    </tr>\n",
       "  </thead>\n",
       "  <tbody>\n",
       "    <tr>\n",
       "      <th>0</th>\n",
       "      <td>Head</td>\n",
       "      <td>White matter lesions</td>\n",
       "      <td>R90.82</td>\n",
       "      <td>NaN</td>\n",
       "    </tr>\n",
       "    <tr>\n",
       "      <th>1</th>\n",
       "      <td>Head</td>\n",
       "      <td>Arachnoid cyst</td>\n",
       "      <td>Q04.3</td>\n",
       "      <td>NaN</td>\n",
       "    </tr>\n",
       "    <tr>\n",
       "      <th>2</th>\n",
       "      <td>Head</td>\n",
       "      <td>Pituitary microadenoma</td>\n",
       "      <td>D35.2</td>\n",
       "      <td>NaN</td>\n",
       "    </tr>\n",
       "    <tr>\n",
       "      <th>3</th>\n",
       "      <td>Head</td>\n",
       "      <td>Pineal cyst</td>\n",
       "      <td>Q04.6</td>\n",
       "      <td>NaN</td>\n",
       "    </tr>\n",
       "    <tr>\n",
       "      <th>4</th>\n",
       "      <td>Head</td>\n",
       "      <td>Chiari I malformation</td>\n",
       "      <td>Q07.0</td>\n",
       "      <td>NaN</td>\n",
       "    </tr>\n",
       "  </tbody>\n",
       "</table>\n",
       "</div>"
      ],
      "text/plain": [
       "  Body_Part      Incidental_Finding ICD10_code  Unnamed: 3\n",
       "0      Head    White matter lesions     R90.82         NaN\n",
       "1      Head          Arachnoid cyst      Q04.3         NaN\n",
       "2      Head  Pituitary microadenoma      D35.2         NaN\n",
       "3      Head             Pineal cyst      Q04.6         NaN\n",
       "4      Head   Chiari I malformation      Q07.0         NaN"
      ]
     },
     "execution_count": 6,
     "metadata": {},
     "output_type": "execute_result"
    }
   ],
   "source": [
    "df_eval.head()"
   ]
  },
  {
   "cell_type": "code",
   "execution_count": 7,
   "metadata": {},
   "outputs": [],
   "source": [
    "# https://en.wikipedia.org/wiki/Flesch%E2%80%93Kincaid_readability_tests#Flesch_reading_ease\n",
    "def map_reading_level(flesch_reading_ease):\n",
    "    if flesch_reading_ease < 10:\n",
    "        return PROFESSIONAL\n",
    "    elif 10.0 <= flesch_reading_ease < 30.0:\n",
    "        return COLLEGE_GRADUATE\n",
    "    elif 30.0 <= flesch_reading_ease < 50.0:\n",
    "        return COLLEGE\n",
    "    elif 50.0 <= flesch_reading_ease < 60.0:\n",
    "        return TENTH_TO_TWELTH_GRADE\n",
    "    elif 60.0 <= flesch_reading_ease < 70.0:\n",
    "        return EIGTH_TO_NINTH_GRADE\n",
    "    elif 70.0 <= flesch_reading_ease < 80.0:\n",
    "        return SEVENTH_GRADE\n",
    "    elif 80.0 <= flesch_reading_ease < 90.0:\n",
    "        return SIXTH_GRADE\n",
    "    elif 90.0 <= flesch_reading_ease < 100.0:\n",
    "        return FIFTH_GRADE \n",
    "    else:\n",
    "        return N_A"
   ]
  },
  {
   "cell_type": "code",
   "execution_count": 8,
   "metadata": {},
   "outputs": [],
   "source": [
    "def extract_json(openai_response):\n",
    "    json_match = re.search(r'```.*(\\{.*?\\}).*```', openai_response.message.content, re.DOTALL)\n",
    "    if json_match:\n",
    "        json_str = json_match.group(1)\n",
    "        # Convert the extracted string to a JSON object\n",
    "        json_object = json.loads(json_str.replace('\\n',''))\n",
    "        #print(json_object)\n",
    "        return json_object\n",
    "    else:\n",
    "        print(\"No JSON object found.\") \n",
    "        return dict()"
   ]
  },
  {
   "cell_type": "code",
   "execution_count": 9,
   "metadata": {},
   "outputs": [],
   "source": [
    "def label_icd10s(pfx_outputs_json):\n",
    "    pfx_icd10_fewshot_examples = \"\"\n",
    "    for i,row in df_fewshot.iterrows():\n",
    "        pfx_icd10_fewshot_examples += icd10_example.format(**row)\n",
    "    \n",
    "    pfx_icd10_codes = []\n",
    "    for pfx_output in pfx_outputs_json:\n",
    "        try:\n",
    "            prompt = baseline_fewshot_icd10_labeling_prompt.format(examples=pfx_icd10_fewshot_examples,PFx=pfx_output['PFx'])\n",
    "        except:\n",
    "            print(pfx_output)\n",
    "        pfx_icd10_response = client.chat.completions.create(\n",
    "                #model=\"gpt-4o-mini\",\n",
    "                model=\"gpt-4o\",\n",
    "                temperature=0.0,\n",
    "                messages=[\n",
    "                    {\"role\": \"system\", \"content\": \"You are an ICD10 medical coder for incidental findings.\" },\n",
    "                    {\"role\": \"user\", \"content\": prompt }\n",
    "                ],\n",
    "                stream=False,\n",
    "            )\n",
    "        pfx_icd10_codes.append(pfx_icd10_response.choices[0])\n",
    "    return list(map(extract_json,pfx_icd10_codes))"
   ]
  },
  {
   "cell_type": "code",
   "execution_count": 10,
   "metadata": {},
   "outputs": [],
   "source": [
    "pfx_zeroshot_outputs = []\n",
    "for i,row in df_eval.iloc[:].iterrows():\n",
    "    #print(baseline_fewshot_prompt.format(examples=pfx_fewshot_examples,Incidental_Finding=row['Incidental_Finding']))\n",
    "    prompt = baseline_zeroshot_prompt.format(Incidental_Finding=row['Incidental_Finding'],Reading_Level=TENTH_TO_TWELTH_GRADE)\n",
    "    pfx_response = client.chat.completions.create(\n",
    "        #model=\"gpt-4o-mini\",\n",
    "        model=\"gpt-4o\",\n",
    "        temperature=0.0,\n",
    "        messages=[\n",
    "            {\"role\": \"system\", \"content\": \"You are a medical doctor rephrasing and explaining medical terminology to a patient.\" },\n",
    "            {\"role\": \"user\", \"content\": prompt }\n",
    "        ],\n",
    "        stream=False,\n",
    "    )\n",
    "    \n",
    "    pfx_zeroshot_outputs.append(pfx_response.choices[0])"
   ]
  },
  {
   "cell_type": "code",
   "execution_count": 11,
   "metadata": {},
   "outputs": [],
   "source": [
    "pfx_zeroshot_outputs_json = list(map(extract_json,pfx_zeroshot_outputs))\n",
    "#pfx_zeroshot_outputs_json\n"
   ]
  },
  {
   "cell_type": "code",
   "execution_count": 12,
   "metadata": {},
   "outputs": [],
   "source": [
    "pfx_zeroshot_output_df = pd.DataFrame(pfx_zeroshot_outputs_json)\n",
    "pfx_zeroshot_outputs_icd10_labels = label_icd10s(pfx_zeroshot_outputs_json)"
   ]
  },
  {
   "cell_type": "code",
   "execution_count": 13,
   "metadata": {},
   "outputs": [],
   "source": [
    "pfx_zeroshot_output_df['_0_agent_icd10_codes'] = list(map(lambda x: list(x.values())[0] if x else \"\", pfx_zeroshot_outputs_icd10_labels))"
   ]
  },
  {
   "cell_type": "code",
   "execution_count": 14,
   "metadata": {},
   "outputs": [
    {
     "ename": "KeyError",
     "evalue": "'0_flesch'",
     "output_type": "error",
     "traceback": [
      "\u001b[0;31m---------------------------------------------------------------------------\u001b[0m",
      "\u001b[0;31mKeyError\u001b[0m                                  Traceback (most recent call last)",
      "File \u001b[0;32m~/.pyenv/versions/3.10.13/lib/python3.10/site-packages/pandas/core/indexes/base.py:3805\u001b[0m, in \u001b[0;36mIndex.get_loc\u001b[0;34m(self, key)\u001b[0m\n\u001b[1;32m   3804\u001b[0m \u001b[38;5;28;01mtry\u001b[39;00m:\n\u001b[0;32m-> 3805\u001b[0m     \u001b[38;5;28;01mreturn\u001b[39;00m \u001b[38;5;28;43mself\u001b[39;49m\u001b[38;5;241;43m.\u001b[39;49m\u001b[43m_engine\u001b[49m\u001b[38;5;241;43m.\u001b[39;49m\u001b[43mget_loc\u001b[49m\u001b[43m(\u001b[49m\u001b[43mcasted_key\u001b[49m\u001b[43m)\u001b[49m\n\u001b[1;32m   3806\u001b[0m \u001b[38;5;28;01mexcept\u001b[39;00m \u001b[38;5;167;01mKeyError\u001b[39;00m \u001b[38;5;28;01mas\u001b[39;00m err:\n",
      "File \u001b[0;32mindex.pyx:167\u001b[0m, in \u001b[0;36mpandas._libs.index.IndexEngine.get_loc\u001b[0;34m()\u001b[0m\n",
      "File \u001b[0;32mindex.pyx:196\u001b[0m, in \u001b[0;36mpandas._libs.index.IndexEngine.get_loc\u001b[0;34m()\u001b[0m\n",
      "File \u001b[0;32mpandas/_libs/hashtable_class_helper.pxi:7081\u001b[0m, in \u001b[0;36mpandas._libs.hashtable.PyObjectHashTable.get_item\u001b[0;34m()\u001b[0m\n",
      "File \u001b[0;32mpandas/_libs/hashtable_class_helper.pxi:7089\u001b[0m, in \u001b[0;36mpandas._libs.hashtable.PyObjectHashTable.get_item\u001b[0;34m()\u001b[0m\n",
      "\u001b[0;31mKeyError\u001b[0m: '0_flesch'",
      "\nThe above exception was the direct cause of the following exception:\n",
      "\u001b[0;31mKeyError\u001b[0m                                  Traceback (most recent call last)",
      "Cell \u001b[0;32mIn[14], line 3\u001b[0m\n\u001b[1;32m      1\u001b[0m pfx_zeroshot_output_df[\u001b[38;5;124m\"\u001b[39m\u001b[38;5;124m_0_icd10_matches\u001b[39m\u001b[38;5;124m\"\u001b[39m]\u001b[38;5;241m=\u001b[39m pfx_zeroshot_output_df\u001b[38;5;241m.\u001b[39mICD10_code \u001b[38;5;241m==\u001b[39m pfx_zeroshot_output_df\u001b[38;5;241m.\u001b[39m_0_agent_icd10_codes\n\u001b[1;32m      2\u001b[0m pfx_zeroshot_output_df[\u001b[38;5;124m\"\u001b[39m\u001b[38;5;124m_0_flesch\u001b[39m\u001b[38;5;124m\"\u001b[39m] \u001b[38;5;241m=\u001b[39m pfx_zeroshot_output_df[\u001b[38;5;124m'\u001b[39m\u001b[38;5;124mPFx\u001b[39m\u001b[38;5;124m'\u001b[39m]\u001b[38;5;241m.\u001b[39mapply(textstat\u001b[38;5;241m.\u001b[39mflesch_reading_ease)\n\u001b[0;32m----> 3\u001b[0m pfx_zeroshot_output_df[\u001b[38;5;124m\"\u001b[39m\u001b[38;5;124m_0_reading_level\u001b[39m\u001b[38;5;124m\"\u001b[39m] \u001b[38;5;241m=\u001b[39m \u001b[43mpfx_zeroshot_output_df\u001b[49m\u001b[43m[\u001b[49m\u001b[38;5;124;43m'\u001b[39;49m\u001b[38;5;124;43m0_flesch\u001b[39;49m\u001b[38;5;124;43m'\u001b[39;49m\u001b[43m]\u001b[49m\u001b[38;5;241m.\u001b[39mapply(map_reading_level)\n\u001b[1;32m      4\u001b[0m pfx_zeroshot_output_df[\u001b[38;5;124m\"\u001b[39m\u001b[38;5;124m_0_reading_level_matches\u001b[39m\u001b[38;5;124m\"\u001b[39m] \u001b[38;5;241m=\u001b[39m pfx_zeroshot_output_df[\u001b[38;5;124m'\u001b[39m\u001b[38;5;124m0_reading_level\u001b[39m\u001b[38;5;124m'\u001b[39m] \u001b[38;5;241m==\u001b[39m TENTH_TO_TWELTH_GRADE\n",
      "File \u001b[0;32m~/.pyenv/versions/3.10.13/lib/python3.10/site-packages/pandas/core/frame.py:4102\u001b[0m, in \u001b[0;36mDataFrame.__getitem__\u001b[0;34m(self, key)\u001b[0m\n\u001b[1;32m   4100\u001b[0m \u001b[38;5;28;01mif\u001b[39;00m \u001b[38;5;28mself\u001b[39m\u001b[38;5;241m.\u001b[39mcolumns\u001b[38;5;241m.\u001b[39mnlevels \u001b[38;5;241m>\u001b[39m \u001b[38;5;241m1\u001b[39m:\n\u001b[1;32m   4101\u001b[0m     \u001b[38;5;28;01mreturn\u001b[39;00m \u001b[38;5;28mself\u001b[39m\u001b[38;5;241m.\u001b[39m_getitem_multilevel(key)\n\u001b[0;32m-> 4102\u001b[0m indexer \u001b[38;5;241m=\u001b[39m \u001b[38;5;28;43mself\u001b[39;49m\u001b[38;5;241;43m.\u001b[39;49m\u001b[43mcolumns\u001b[49m\u001b[38;5;241;43m.\u001b[39;49m\u001b[43mget_loc\u001b[49m\u001b[43m(\u001b[49m\u001b[43mkey\u001b[49m\u001b[43m)\u001b[49m\n\u001b[1;32m   4103\u001b[0m \u001b[38;5;28;01mif\u001b[39;00m is_integer(indexer):\n\u001b[1;32m   4104\u001b[0m     indexer \u001b[38;5;241m=\u001b[39m [indexer]\n",
      "File \u001b[0;32m~/.pyenv/versions/3.10.13/lib/python3.10/site-packages/pandas/core/indexes/base.py:3812\u001b[0m, in \u001b[0;36mIndex.get_loc\u001b[0;34m(self, key)\u001b[0m\n\u001b[1;32m   3807\u001b[0m     \u001b[38;5;28;01mif\u001b[39;00m \u001b[38;5;28misinstance\u001b[39m(casted_key, \u001b[38;5;28mslice\u001b[39m) \u001b[38;5;129;01mor\u001b[39;00m (\n\u001b[1;32m   3808\u001b[0m         \u001b[38;5;28misinstance\u001b[39m(casted_key, abc\u001b[38;5;241m.\u001b[39mIterable)\n\u001b[1;32m   3809\u001b[0m         \u001b[38;5;129;01mand\u001b[39;00m \u001b[38;5;28many\u001b[39m(\u001b[38;5;28misinstance\u001b[39m(x, \u001b[38;5;28mslice\u001b[39m) \u001b[38;5;28;01mfor\u001b[39;00m x \u001b[38;5;129;01min\u001b[39;00m casted_key)\n\u001b[1;32m   3810\u001b[0m     ):\n\u001b[1;32m   3811\u001b[0m         \u001b[38;5;28;01mraise\u001b[39;00m InvalidIndexError(key)\n\u001b[0;32m-> 3812\u001b[0m     \u001b[38;5;28;01mraise\u001b[39;00m \u001b[38;5;167;01mKeyError\u001b[39;00m(key) \u001b[38;5;28;01mfrom\u001b[39;00m \u001b[38;5;21;01merr\u001b[39;00m\n\u001b[1;32m   3813\u001b[0m \u001b[38;5;28;01mexcept\u001b[39;00m \u001b[38;5;167;01mTypeError\u001b[39;00m:\n\u001b[1;32m   3814\u001b[0m     \u001b[38;5;66;03m# If we have a listlike key, _check_indexing_error will raise\u001b[39;00m\n\u001b[1;32m   3815\u001b[0m     \u001b[38;5;66;03m#  InvalidIndexError. Otherwise we fall through and re-raise\u001b[39;00m\n\u001b[1;32m   3816\u001b[0m     \u001b[38;5;66;03m#  the TypeError.\u001b[39;00m\n\u001b[1;32m   3817\u001b[0m     \u001b[38;5;28mself\u001b[39m\u001b[38;5;241m.\u001b[39m_check_indexing_error(key)\n",
      "\u001b[0;31mKeyError\u001b[0m: '0_flesch'"
     ]
    }
   ],
   "source": [
    "pfx_zeroshot_output_df[\"_0_icd10_matches\"]= pfx_zeroshot_output_df.ICD10_code == pfx_zeroshot_output_df._0_agent_icd10_codes\n",
    "pfx_zeroshot_output_df[\"_0_flesch\"] = pfx_zeroshot_output_df['PFx'].apply(textstat.flesch_reading_ease)\n",
    "pfx_zeroshot_output_df[\"_0_reading_level\"] = pfx_zeroshot_output_df['0_flesch'].apply(map_reading_level)\n",
    "pfx_zeroshot_output_df[\"_0_reading_level_matches\"] = pfx_zeroshot_output_df['0_reading_level'] == TENTH_TO_TWELTH_GRADE"
   ]
  },
  {
   "cell_type": "code",
   "execution_count": null,
   "metadata": {},
   "outputs": [],
   "source": [
    "pfx_zeroshot_output_df.head()\n"
   ]
  },
  {
   "cell_type": "code",
   "execution_count": null,
   "metadata": {},
   "outputs": [],
   "source": [
    "#icd10 accuracy -- at least according to GPT4o\n",
    "sum(pfx_zeroshot_output_df[\"_0_icd10_matches\"])/len(pfx_zeroshot_output_df.index)"
   ]
  },
  {
   "cell_type": "code",
   "execution_count": null,
   "metadata": {},
   "outputs": [],
   "source": [
    "pfx_fewshot_examples = \"\"\n",
    "for i,row in df_fewshot.iterrows():\n",
    "    pfx_fewshot_examples += example.format(**row)\n",
    "\n",
    "pfx_fewshot_outputs = []\n",
    "for i,row in df_eval.iloc[:].iterrows():\n",
    "    #print(baseline_fewshot_prompt.format(examples=pfx_fewshot_examples,Incidental_Finding=row['Incidental_Finding']))\n",
    "    prompt = baseline_fewshot_prompt.format(examples=pfx_fewshot_examples,Incidental_Finding=row['Incidental_Finding'],Reading_Level=TENTH_TO_TWELTH_GRADE)\n",
    "    pfx_response = client.chat.completions.create(\n",
    "        #model=\"gpt-4o-mini\",\n",
    "        model=\"gpt-4o\",\n",
    "        temperature=0.0,\n",
    "        messages=[\n",
    "            {\"role\": \"system\", \"content\": \"You are a medical doctor rephrasing and explaining medical terminology to a patient.\" },\n",
    "            {\"role\": \"user\", \"content\": prompt }\n",
    "        ],\n",
    "        stream=False,\n",
    "    )\n",
    "    \n",
    "    pfx_fewshot_outputs.append(pfx_response.choices[0])"
   ]
  },
  {
   "cell_type": "code",
   "execution_count": null,
   "metadata": {},
   "outputs": [],
   "source": [
    "pfx_fewshot_outputs_json = list(map(extract_json,pfx_fewshot_outputs))\n",
    "pfx_fewshot_outputs_icd10_labels = label_icd10s(pfx_fewshot_outputs_json)"
   ]
  },
  {
   "cell_type": "code",
   "execution_count": null,
   "metadata": {},
   "outputs": [],
   "source": [
    "pfx_fewshot_output_df = pd.DataFrame(pfx_fewshot_outputs_json)\n",
    "pfx_fewshot_output_df['_0_agent_icd10_codes'] = list(map(lambda x: list(x.values())[0] if x else \"\",pfx_fewshot_outputs_icd10_labels))\n",
    "pfx_fewshot_output_df[\"_0_icd10_matches\"]= pfx_fewshot_output_df.ICD10_code == pfx_fewshot_output_df._0_agent_icd10_codes\n",
    "pfx_fewshot_output_df[\"_0_flesch\"] = pfx_fewshot_output_df['PFx'].apply(textstat.flesch_reading_ease)\n",
    "pfx_fewshot_output_df[\"_0_reading_level\"] = pfx_fewshot_output_df['0_flesch'].apply(map_reading_level)"
   ]
  },
  {
   "cell_type": "code",
   "execution_count": null,
   "metadata": {},
   "outputs": [],
   "source": [
    "sum(pfx_fewshot_output_df[\"_0_icd10_matches\"])/len(pfx_fewshot_output_df.index)"
   ]
  },
  {
   "cell_type": "code",
   "execution_count": null,
   "metadata": {},
   "outputs": [],
   "source": [
    "pfx_fewshot_output_df.head()"
   ]
  }
 ],
 "metadata": {
  "kernelspec": {
   "display_name": "Python 3 (ipykernel)",
   "language": "python",
   "name": "python3"
  },
  "language_info": {
   "codemirror_mode": {
    "name": "ipython",
    "version": 3
   },
   "file_extension": ".py",
   "mimetype": "text/x-python",
   "name": "python",
   "nbconvert_exporter": "python",
   "pygments_lexer": "ipython3",
   "version": "3.10.13"
  },
  "vscode": {
   "interpreter": {
    "hash": "e23f799cbd2581634725fbf6ce3480ae26192d78438dfafc8efe944acd6490d5"
   }
  }
 },
 "nbformat": 4,
 "nbformat_minor": 4
}
