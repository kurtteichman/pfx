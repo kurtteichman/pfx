{
 "cells": [
  {
   "cell_type": "code",
   "execution_count": 1,
   "metadata": {},
   "outputs": [],
   "source": [
    "### PFX prototyping"
   ]
  },
  {
   "cell_type": "code",
   "execution_count": 2,
   "metadata": {},
   "outputs": [],
   "source": [
    "import pandas as pd\n",
    "import os\n",
    "from readability import Readability\n",
    "import textstat\n",
    "from openai import OpenAI\n",
    "import json\n",
    "import re\n",
    "from pfx_fewshots import baseline_fewshot_prompt,example,baseline_fewshot_icd10_labeling_prompt,icd10_example,baseline_zeroshot_prompt\n",
    "client = OpenAI()"
   ]
  },
  {
   "cell_type": "code",
   "execution_count": 3,
   "metadata": {},
   "outputs": [],
   "source": [
    "df_fewshot = pd.read_csv('pfx_fewshot_examples_college.csv')"
   ]
  },
  {
   "cell_type": "code",
   "execution_count": 4,
   "metadata": {},
   "outputs": [
    {
     "data": {
      "text/html": [
       "<div>\n",
       "<style scoped>\n",
       "    .dataframe tbody tr th:only-of-type {\n",
       "        vertical-align: middle;\n",
       "    }\n",
       "\n",
       "    .dataframe tbody tr th {\n",
       "        vertical-align: top;\n",
       "    }\n",
       "\n",
       "    .dataframe thead th {\n",
       "        text-align: right;\n",
       "    }\n",
       "</style>\n",
       "<table border=\"1\" class=\"dataframe\">\n",
       "  <thead>\n",
       "    <tr style=\"text-align: right;\">\n",
       "      <th></th>\n",
       "      <th>Body_Part</th>\n",
       "      <th>Incidental_Finding</th>\n",
       "      <th>ICD10_code</th>\n",
       "      <th>PFx</th>\n",
       "      <th>PFx_ICD10_code</th>\n",
       "    </tr>\n",
       "  </thead>\n",
       "  <tbody>\n",
       "    <tr>\n",
       "      <th>0</th>\n",
       "      <td>Head</td>\n",
       "      <td>Cerebral cavernous malformation</td>\n",
       "      <td>I67.1</td>\n",
       "      <td>A small cavernous malformation of the brain is...</td>\n",
       "      <td>I67.1</td>\n",
       "    </tr>\n",
       "    <tr>\n",
       "      <th>1</th>\n",
       "      <td>Head</td>\n",
       "      <td>Infundibulum of cerebral artery</td>\n",
       "      <td>Q28.2</td>\n",
       "      <td>An infundibulum detected on an MRI of the brai...</td>\n",
       "      <td>Q28.2</td>\n",
       "    </tr>\n",
       "    <tr>\n",
       "      <th>2</th>\n",
       "      <td>Neck</td>\n",
       "      <td>Tornwaldt cyst</td>\n",
       "      <td>J39.2</td>\n",
       "      <td>A Tornwaldt cyst, often detected incidentally ...</td>\n",
       "      <td>J39.2</td>\n",
       "    </tr>\n",
       "    <tr>\n",
       "      <th>3</th>\n",
       "      <td>Head</td>\n",
       "      <td>Fluid in the right petrous apex</td>\n",
       "      <td>H70.8</td>\n",
       "      <td>A small amount of incidentally found fluid in ...</td>\n",
       "      <td>H70.8</td>\n",
       "    </tr>\n",
       "    <tr>\n",
       "      <th>4</th>\n",
       "      <td>Abdomen</td>\n",
       "      <td>Spinal hemangioma</td>\n",
       "      <td>D18.09</td>\n",
       "      <td>A spinal hemangioma, often found incidentally ...</td>\n",
       "      <td>D18.09</td>\n",
       "    </tr>\n",
       "  </tbody>\n",
       "</table>\n",
       "</div>"
      ],
      "text/plain": [
       "  Body_Part               Incidental_Finding ICD10_code  \\\n",
       "0      Head  Cerebral cavernous malformation      I67.1   \n",
       "1      Head  Infundibulum of cerebral artery      Q28.2   \n",
       "2      Neck                   Tornwaldt cyst      J39.2   \n",
       "3      Head  Fluid in the right petrous apex      H70.8   \n",
       "4   Abdomen                Spinal hemangioma     D18.09   \n",
       "\n",
       "                                                 PFx PFx_ICD10_code  \n",
       "0  A small cavernous malformation of the brain is...          I67.1  \n",
       "1  An infundibulum detected on an MRI of the brai...          Q28.2  \n",
       "2  A Tornwaldt cyst, often detected incidentally ...          J39.2  \n",
       "3  A small amount of incidentally found fluid in ...          H70.8  \n",
       "4  A spinal hemangioma, often found incidentally ...         D18.09  "
      ]
     },
     "execution_count": 4,
     "metadata": {},
     "output_type": "execute_result"
    }
   ],
   "source": [
    "df_fewshot.head()\n"
   ]
  },
  {
   "cell_type": "code",
   "execution_count": 5,
   "metadata": {},
   "outputs": [],
   "source": [
    "df_eval = pd.read_csv('pfx_evaluation_data.csv')"
   ]
  },
  {
   "cell_type": "code",
   "execution_count": 6,
   "metadata": {},
   "outputs": [
    {
     "data": {
      "text/html": [
       "<div>\n",
       "<style scoped>\n",
       "    .dataframe tbody tr th:only-of-type {\n",
       "        vertical-align: middle;\n",
       "    }\n",
       "\n",
       "    .dataframe tbody tr th {\n",
       "        vertical-align: top;\n",
       "    }\n",
       "\n",
       "    .dataframe thead th {\n",
       "        text-align: right;\n",
       "    }\n",
       "</style>\n",
       "<table border=\"1\" class=\"dataframe\">\n",
       "  <thead>\n",
       "    <tr style=\"text-align: right;\">\n",
       "      <th></th>\n",
       "      <th>Body_Part</th>\n",
       "      <th>Incidental_Finding</th>\n",
       "      <th>ICD10_code</th>\n",
       "      <th>Unnamed: 3</th>\n",
       "    </tr>\n",
       "  </thead>\n",
       "  <tbody>\n",
       "    <tr>\n",
       "      <th>0</th>\n",
       "      <td>Head</td>\n",
       "      <td>White matter lesions</td>\n",
       "      <td>R90.82</td>\n",
       "      <td>NaN</td>\n",
       "    </tr>\n",
       "    <tr>\n",
       "      <th>1</th>\n",
       "      <td>Head</td>\n",
       "      <td>Arachnoid cyst</td>\n",
       "      <td>Q04.3</td>\n",
       "      <td>NaN</td>\n",
       "    </tr>\n",
       "    <tr>\n",
       "      <th>2</th>\n",
       "      <td>Head</td>\n",
       "      <td>Pituitary microadenoma</td>\n",
       "      <td>D35.2</td>\n",
       "      <td>NaN</td>\n",
       "    </tr>\n",
       "    <tr>\n",
       "      <th>3</th>\n",
       "      <td>Head</td>\n",
       "      <td>Pineal cyst</td>\n",
       "      <td>Q04.6</td>\n",
       "      <td>NaN</td>\n",
       "    </tr>\n",
       "    <tr>\n",
       "      <th>4</th>\n",
       "      <td>Head</td>\n",
       "      <td>Chiari I malformation</td>\n",
       "      <td>Q07.0</td>\n",
       "      <td>NaN</td>\n",
       "    </tr>\n",
       "  </tbody>\n",
       "</table>\n",
       "</div>"
      ],
      "text/plain": [
       "  Body_Part      Incidental_Finding ICD10_code  Unnamed: 3\n",
       "0      Head    White matter lesions     R90.82         NaN\n",
       "1      Head          Arachnoid cyst      Q04.3         NaN\n",
       "2      Head  Pituitary microadenoma      D35.2         NaN\n",
       "3      Head             Pineal cyst      Q04.6         NaN\n",
       "4      Head   Chiari I malformation      Q07.0         NaN"
      ]
     },
     "execution_count": 6,
     "metadata": {},
     "output_type": "execute_result"
    }
   ],
   "source": [
    "df_eval.head()"
   ]
  },
  {
   "cell_type": "code",
   "execution_count": 7,
   "metadata": {},
   "outputs": [],
   "source": [
    "# https://en.wikipedia.org/wiki/Flesch%E2%80%93Kincaid_readability_tests#Flesch_reading_ease\n",
    "def map_reading_level(flesch_reading_ease):\n",
    "    if flesch_reading_ease < 10:\n",
    "        return \"Professional\"\n",
    "    elif 10.0 <= flesch_reading_ease < 30.0:\n",
    "        return \"College graduate\"\n",
    "    elif 30.0 <= flesch_reading_ease < 50.0:\n",
    "        return \"College\"\n",
    "    elif 50.0 <= flesch_reading_ease < 60.0:\n",
    "        return \"10th to 12th grade\"\n",
    "    elif 60.0 <= flesch_reading_ease < 70.0:\n",
    "        return \"8th & 9th grade\"\n",
    "    elif 70.0 <= flesch_reading_ease < 80.0:\n",
    "        return \"7th grade\"\n",
    "    elif 80.0 <= flesch_reading_ease < 90.0:\n",
    "        return \"6th grade\"\n",
    "    elif 90.0 <= flesch_reading_ease < 100.0:\n",
    "        return \"5th grade\"\n",
    "    else:\n",
    "        return \"\""
   ]
  },
  {
   "cell_type": "code",
   "execution_count": 8,
   "metadata": {},
   "outputs": [],
   "source": [
    "def extract_json(openai_response):\n",
    "    json_match = re.search(r'```.*(\\{.*?\\}).*```', openai_response.message.content, re.DOTALL)\n",
    "    if json_match:\n",
    "        json_str = json_match.group(1)\n",
    "        # Convert the extracted string to a JSON object\n",
    "        json_object = json.loads(json_str.replace('\\n',''))\n",
    "        #print(json_object)\n",
    "        return json_object\n",
    "    else:\n",
    "        print(\"No JSON object found.\") \n",
    "        return dict()"
   ]
  },
  {
   "cell_type": "code",
   "execution_count": 9,
   "metadata": {},
   "outputs": [],
   "source": [
    "def label_icd10s(pfx_outputs_json):\n",
    "    pfx_icd10_fewshot_examples = \"\"\n",
    "    for i,row in df_fewshot.iterrows():\n",
    "        pfx_icd10_fewshot_examples += icd10_example.format(**row)\n",
    "    \n",
    "    pfx_icd10_codes = []\n",
    "    for pfx_output in pfx_outputs_json:\n",
    "        try:\n",
    "            prompt = baseline_fewshot_icd10_labeling_prompt.format(examples=pfx_icd10_fewshot_examples,PFx=pfx_output['PFx'])\n",
    "        except:\n",
    "            print(pfx_output)\n",
    "        pfx_icd10_response = client.chat.completions.create(\n",
    "                #model=\"gpt-4o-mini\",\n",
    "                model=\"gpt-4o\",\n",
    "                temperature=0.0,\n",
    "                messages=[\n",
    "                    {\"role\": \"system\", \"content\": \"You are an ICD10 medical coder for incidental findings.\" },\n",
    "                    {\"role\": \"user\", \"content\": prompt }\n",
    "                ],\n",
    "                stream=False,\n",
    "            )\n",
    "        pfx_icd10_codes.append(pfx_icd10_response.choices[0])\n",
    "    return list(map(extract_json,pfx_icd10_codes))"
   ]
  },
  {
   "cell_type": "code",
   "execution_count": 10,
   "metadata": {},
   "outputs": [],
   "source": [
    "pfx_zeroshot_outputs = []\n",
    "for i,row in df_eval.iloc[:].iterrows():\n",
    "    #print(baseline_fewshot_prompt.format(examples=pfx_fewshot_examples,Incidental_Finding=row['Incidental_Finding']))\n",
    "    prompt = baseline_zeroshot_prompt.format(Incidental_Finding=row['Incidental_Finding'])\n",
    "    pfx_response = client.chat.completions.create(\n",
    "        #model=\"gpt-4o-mini\",\n",
    "        model=\"gpt-4o\",\n",
    "        temperature=0.0,\n",
    "        messages=[\n",
    "            {\"role\": \"system\", \"content\": \"You are a medical doctor rephrasing and explaining medical terminology to a patient.\" },\n",
    "            {\"role\": \"user\", \"content\": prompt }\n",
    "        ],\n",
    "        stream=False,\n",
    "    )\n",
    "    \n",
    "    pfx_zeroshot_outputs.append(pfx_response.choices[0])"
   ]
  },
  {
   "cell_type": "code",
   "execution_count": 24,
   "metadata": {},
   "outputs": [],
   "source": [
    "pfx_zeroshot_outputs_json = list(map(extract_json,pfx_zeroshot_outputs))\n",
    "#pfx_zeroshot_outputs_json\n"
   ]
  },
  {
   "cell_type": "code",
   "execution_count": 12,
   "metadata": {},
   "outputs": [],
   "source": [
    "pfx_zeroshot_output_df = pd.DataFrame(pfx_zeroshot_outputs_json)\n",
    "pfx_zeroshot_outputs_icd10_labels = label_icd10s(pfx_zeroshot_outputs_json)"
   ]
  },
  {
   "cell_type": "code",
   "execution_count": 13,
   "metadata": {},
   "outputs": [],
   "source": [
    "pfx_zeroshot_output_df['agent_icd10_codes'] = list(map(lambda x: list(x.values())[0] if x else \"\", pfx_zeroshot_outputs_icd10_labels))"
   ]
  },
  {
   "cell_type": "code",
   "execution_count": 30,
   "metadata": {},
   "outputs": [],
   "source": [
    "pfx_zeroshot_output_df[\"0_icd10_matches\"]= pfx_zeroshot_output_df.ICD10_code == pfx_zeroshot_output_df.agent_icd10_codes\n",
    "pfx_zeroshot_output_df[\"0_flesch\"] = pfx_zeroshot_output_df['PFx'].apply(textstat.flesch_reading_ease)\n",
    "pfx_zeroshot_output_df[\"0_reading_level\"] = pfx_zeroshot_output_df['0_flesch'].apply(map_reading_level)"
   ]
  },
  {
   "cell_type": "code",
   "execution_count": 32,
   "metadata": {},
   "outputs": [
    {
     "data": {
      "text/html": [
       "<div>\n",
       "<style scoped>\n",
       "    .dataframe tbody tr th:only-of-type {\n",
       "        vertical-align: middle;\n",
       "    }\n",
       "\n",
       "    .dataframe tbody tr th {\n",
       "        vertical-align: top;\n",
       "    }\n",
       "\n",
       "    .dataframe thead th {\n",
       "        text-align: right;\n",
       "    }\n",
       "</style>\n",
       "<table border=\"1\" class=\"dataframe\">\n",
       "  <thead>\n",
       "    <tr style=\"text-align: right;\">\n",
       "      <th></th>\n",
       "      <th>finding</th>\n",
       "      <th>ICD10_code</th>\n",
       "      <th>PFx</th>\n",
       "      <th>PFx_ICD10_code</th>\n",
       "      <th>agent_icd10_codes</th>\n",
       "      <th>0_icd10_matches</th>\n",
       "      <th>0_flesch</th>\n",
       "      <th>0_reading_level</th>\n",
       "    </tr>\n",
       "  </thead>\n",
       "  <tbody>\n",
       "    <tr>\n",
       "      <th>0</th>\n",
       "      <td>White matter lesions</td>\n",
       "      <td>R90.82</td>\n",
       "      <td>White matter lesions are small areas of damage...</td>\n",
       "      <td>R90.82</td>\n",
       "      <td>R90.82</td>\n",
       "      <td>True</td>\n",
       "      <td>69.31</td>\n",
       "      <td>8th &amp; 9th grade</td>\n",
       "    </tr>\n",
       "    <tr>\n",
       "      <th>1</th>\n",
       "      <td>Arachnoid cyst</td>\n",
       "      <td>G93.0</td>\n",
       "      <td>An arachnoid cyst is a fluid-filled sac that f...</td>\n",
       "      <td>G93.0</td>\n",
       "      <td>Q04.6</td>\n",
       "      <td>False</td>\n",
       "      <td>61.36</td>\n",
       "      <td>8th &amp; 9th grade</td>\n",
       "    </tr>\n",
       "    <tr>\n",
       "      <th>2</th>\n",
       "      <td>Pituitary microadenoma</td>\n",
       "      <td>D35.2</td>\n",
       "      <td>A pituitary microadenoma is a small, non-cance...</td>\n",
       "      <td>D35.2</td>\n",
       "      <td>D35.2</td>\n",
       "      <td>True</td>\n",
       "      <td>50.36</td>\n",
       "      <td>10th to 12th grade</td>\n",
       "    </tr>\n",
       "    <tr>\n",
       "      <th>3</th>\n",
       "      <td>Pineal cyst</td>\n",
       "      <td>Q04.6</td>\n",
       "      <td>A pineal cyst is a fluid-filled sac located in...</td>\n",
       "      <td>Q04.6</td>\n",
       "      <td>Q04.8</td>\n",
       "      <td>False</td>\n",
       "      <td>69.62</td>\n",
       "      <td>8th &amp; 9th grade</td>\n",
       "    </tr>\n",
       "    <tr>\n",
       "      <th>4</th>\n",
       "      <td>Chiari I malformation</td>\n",
       "      <td>Q07.0</td>\n",
       "      <td>Chiari I malformation is a condition where the...</td>\n",
       "      <td>Q07.0</td>\n",
       "      <td>Q07.0</td>\n",
       "      <td>True</td>\n",
       "      <td>66.23</td>\n",
       "      <td>8th &amp; 9th grade</td>\n",
       "    </tr>\n",
       "  </tbody>\n",
       "</table>\n",
       "</div>"
      ],
      "text/plain": [
       "                  finding ICD10_code  \\\n",
       "0    White matter lesions     R90.82   \n",
       "1          Arachnoid cyst      G93.0   \n",
       "2  Pituitary microadenoma      D35.2   \n",
       "3             Pineal cyst      Q04.6   \n",
       "4   Chiari I malformation      Q07.0   \n",
       "\n",
       "                                                 PFx PFx_ICD10_code  \\\n",
       "0  White matter lesions are small areas of damage...         R90.82   \n",
       "1  An arachnoid cyst is a fluid-filled sac that f...          G93.0   \n",
       "2  A pituitary microadenoma is a small, non-cance...          D35.2   \n",
       "3  A pineal cyst is a fluid-filled sac located in...          Q04.6   \n",
       "4  Chiari I malformation is a condition where the...          Q07.0   \n",
       "\n",
       "  agent_icd10_codes  0_icd10_matches  0_flesch     0_reading_level  \n",
       "0            R90.82             True     69.31     8th & 9th grade  \n",
       "1             Q04.6            False     61.36     8th & 9th grade  \n",
       "2             D35.2             True     50.36  10th to 12th grade  \n",
       "3             Q04.8            False     69.62     8th & 9th grade  \n",
       "4             Q07.0             True     66.23     8th & 9th grade  "
      ]
     },
     "execution_count": 32,
     "metadata": {},
     "output_type": "execute_result"
    }
   ],
   "source": [
    "pfx_zeroshot_output_df.head()\n"
   ]
  },
  {
   "cell_type": "code",
   "execution_count": 31,
   "metadata": {},
   "outputs": [
    {
     "data": {
      "text/plain": [
       "0.8"
      ]
     },
     "execution_count": 31,
     "metadata": {},
     "output_type": "execute_result"
    }
   ],
   "source": [
    "#icd10 accuracy -- at least according to GPT4o\n",
    "sum(pfx_zeroshot_output_df[\"0_icd10_matches\"])/len(pfx_fewshot_output_df.index)"
   ]
  },
  {
   "cell_type": "code",
   "execution_count": 16,
   "metadata": {},
   "outputs": [],
   "source": [
    "pfx_fewshot_examples = \"\"\n",
    "for i,row in df_fewshot.iterrows():\n",
    "    pfx_fewshot_examples += example.format(**row)\n",
    "\n",
    "    \n",
    "pfx_fewshot_outputs = []\n",
    "for i,row in df_eval.iloc[:].iterrows():\n",
    "    #print(baseline_fewshot_prompt.format(examples=pfx_fewshot_examples,Incidental_Finding=row['Incidental_Finding']))\n",
    "    prompt = baseline_fewshot_prompt.format(examples=pfx_fewshot_examples,Incidental_Finding=row['Incidental_Finding'])\n",
    "    pfx_response = client.chat.completions.create(\n",
    "        #model=\"gpt-4o-mini\",\n",
    "        model=\"gpt-4o\",\n",
    "        temperature=0.0,\n",
    "        messages=[\n",
    "            {\"role\": \"system\", \"content\": \"You are a medical doctor rephrasing and explaining medical terminology to a patient.\" },\n",
    "            {\"role\": \"user\", \"content\": prompt }\n",
    "        ],\n",
    "        stream=False,\n",
    "    )\n",
    "    \n",
    "    pfx_fewshot_outputs.append(pfx_response.choices[0])"
   ]
  },
  {
   "cell_type": "code",
   "execution_count": 18,
   "metadata": {},
   "outputs": [],
   "source": [
    "pfx_fewshot_outputs_json = list(map(extract_json,pfx_fewshot_outputs))\n",
    "pfx_fewshot_outputs_icd10_labels = label_icd10s(pfx_fewshot_outputs_json)\n"
   ]
  },
  {
   "cell_type": "code",
   "execution_count": 21,
   "metadata": {},
   "outputs": [],
   "source": [
    "pfx_fewshot_output_df = pd.DataFrame(pfx_fewshot_outputs_json)\n",
    "pfx_fewshot_output_df['agent_icd10_codes'] = list(map(lambda x: list(x.values())[0] if x else \"\",pfx_fewshot_outputs_icd10_labels))\n",
    "pfx_fewshot_output_df[\"0_icd10_matches\"]= pfx_fewshot_output_df.ICD10_code == pfx_zeroshot_output_df.agent_icd10_codes\n",
    "pfx_fewshot_output_df[\"0_flesch\"] = pfx_zeroshot_output_df['PFx'].apply(textstat.flesch_reading_ease)\n",
    "pfx_fewshot_output_df[\"0_reading_level\"] = pfx_zeroshot_output_df['0_flesch'].apply(map_reading_level)"
   ]
  },
  {
   "cell_type": "code",
   "execution_count": 22,
   "metadata": {},
   "outputs": [
    {
     "data": {
      "text/plain": [
       "[True,\n",
       " False,\n",
       " True,\n",
       " False,\n",
       " True,\n",
       " True,\n",
       " True,\n",
       " True,\n",
       " True,\n",
       " True,\n",
       " True,\n",
       " True,\n",
       " True,\n",
       " True,\n",
       " True,\n",
       " False,\n",
       " True,\n",
       " True,\n",
       " True,\n",
       " True,\n",
       " True,\n",
       " True,\n",
       " False,\n",
       " False,\n",
       " True]"
      ]
     },
     "execution_count": 22,
     "metadata": {},
     "output_type": "execute_result"
    }
   ],
   "source": [
    "list(map(lambda x: x[0]==x[1],zip(pfx_fewshot_output_df['ICD10_code'],pfx_fewshot_output_df['agent_icd10_codes'])))"
   ]
  },
  {
   "cell_type": "code",
   "execution_count": 23,
   "metadata": {},
   "outputs": [
    {
     "data": {
      "text/plain": [
       "0.8"
      ]
     },
     "execution_count": 23,
     "metadata": {},
     "output_type": "execute_result"
    }
   ],
   "source": [
    "#icd10 accuracy -- at least according to GPT4o\n",
    "sum(_)/len(_)"
   ]
  },
  {
   "cell_type": "code",
   "execution_count": 21,
   "metadata": {},
   "outputs": [
    {
     "data": {
      "text/plain": [
       "<readability.readability.Readability at 0x1697209a0>"
      ]
     },
     "execution_count": 21,
     "metadata": {},
     "output_type": "execute_result"
    }
   ],
   "source": []
  },
  {
   "cell_type": "code",
   "execution_count": 24,
   "metadata": {},
   "outputs": [],
   "source": []
  },
  {
   "cell_type": "code",
   "execution_count": 52,
   "metadata": {},
   "outputs": [
    {
     "data": {
      "text/plain": [
       "0     42.92\n",
       "1     55.84\n",
       "2     38.66\n",
       "3     42.72\n",
       "4     30.40\n",
       "5     53.81\n",
       "6     45.56\n",
       "7     48.13\n",
       "8     54.22\n",
       "9     59.84\n",
       "10    65.56\n",
       "11    38.66\n",
       "12    45.56\n",
       "13    47.62\n",
       "14    47.12\n",
       "15    50.87\n",
       "16    48.33\n",
       "17    42.72\n",
       "18    52.19\n",
       "19    52.39\n",
       "20    48.30\n",
       "21    45.56\n",
       "22    40.69\n",
       "23    41.40\n",
       "24    33.75\n",
       "Name: PFx, dtype: float64"
      ]
     },
     "execution_count": 52,
     "metadata": {},
     "output_type": "execute_result"
    }
   ],
   "source": [
    "pfx_fewshot_output_df['PFx'].apply(textstat.flesch_reading_ease)"
   ]
  },
  {
   "cell_type": "code",
   "execution_count": 26,
   "metadata": {},
   "outputs": [
    {
     "data": {
      "text/plain": [
       "38.15"
      ]
     },
     "execution_count": 26,
     "metadata": {},
     "output_type": "execute_result"
    }
   ],
   "source": [
    "textstat.flesch_reading_ease(output_df.iloc[0]['PFx'])"
   ]
  },
  {
   "cell_type": "code",
   "execution_count": null,
   "metadata": {},
   "outputs": [],
   "source": []
  }
 ],
 "metadata": {
  "kernelspec": {
   "display_name": "Python 3 (ipykernel)",
   "language": "python",
   "name": "python3"
  },
  "language_info": {
   "codemirror_mode": {
    "name": "ipython",
    "version": 3
   },
   "file_extension": ".py",
   "mimetype": "text/x-python",
   "name": "python",
   "nbconvert_exporter": "python",
   "pygments_lexer": "ipython3",
   "version": "3.10.13"
  },
  "vscode": {
   "interpreter": {
    "hash": "e23f799cbd2581634725fbf6ce3480ae26192d78438dfafc8efe944acd6490d5"
   }
  }
 },
 "nbformat": 4,
 "nbformat_minor": 4
}
