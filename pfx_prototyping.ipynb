{
 "cells": [
  {
   "cell_type": "code",
   "execution_count": 1,
   "metadata": {},
   "outputs": [],
   "source": [
    "### PFX prototyping"
   ]
  },
  {
   "cell_type": "code",
   "execution_count": 2,
   "metadata": {},
   "outputs": [],
   "source": [
    "import pandas as pd\n",
    "import os\n",
    "from readability import Readability\n",
    "import textstat\n",
    "from openai import OpenAI\n",
    "import json\n",
    "import re\n",
    "from pfx_fewshots import baseline_fewshot_prompt,example,baseline_fewshot_icd10_labeling_prompt,icd10_example,baseline_zeroshot_prompt\n",
    "client = OpenAI()\n",
    "#os.chdir(os.path.expanduser(\"../\"))"
   ]
  },
  {
   "cell_type": "code",
   "execution_count": 3,
   "metadata": {},
   "outputs": [],
   "source": [
    "df_fewshot = pd.read_csv('pfx_fewshot_examples_college.csv')"
   ]
  },
  {
   "cell_type": "code",
   "execution_count": 4,
   "metadata": {},
   "outputs": [
    {
     "data": {
      "text/html": [
       "<div>\n",
       "<style scoped>\n",
       "    .dataframe tbody tr th:only-of-type {\n",
       "        vertical-align: middle;\n",
       "    }\n",
       "\n",
       "    .dataframe tbody tr th {\n",
       "        vertical-align: top;\n",
       "    }\n",
       "\n",
       "    .dataframe thead th {\n",
       "        text-align: right;\n",
       "    }\n",
       "</style>\n",
       "<table border=\"1\" class=\"dataframe\">\n",
       "  <thead>\n",
       "    <tr style=\"text-align: right;\">\n",
       "      <th></th>\n",
       "      <th>Body_Part</th>\n",
       "      <th>Incidental_Finding</th>\n",
       "      <th>ICD10_code</th>\n",
       "      <th>PFx</th>\n",
       "      <th>PFx_ICD10_code</th>\n",
       "    </tr>\n",
       "  </thead>\n",
       "  <tbody>\n",
       "    <tr>\n",
       "      <th>0</th>\n",
       "      <td>Head</td>\n",
       "      <td>Cerebral cavernous malformation</td>\n",
       "      <td>I67.1</td>\n",
       "      <td>A small cavernous malformation of the brain is...</td>\n",
       "      <td>I67.1</td>\n",
       "    </tr>\n",
       "    <tr>\n",
       "      <th>1</th>\n",
       "      <td>Head</td>\n",
       "      <td>Infundibulum of cerebral artery</td>\n",
       "      <td>Q28.2</td>\n",
       "      <td>An infundibulum detected on an MRI of the brai...</td>\n",
       "      <td>Q28.2</td>\n",
       "    </tr>\n",
       "    <tr>\n",
       "      <th>2</th>\n",
       "      <td>Neck</td>\n",
       "      <td>Tornwaldt cyst</td>\n",
       "      <td>J39.2</td>\n",
       "      <td>A Tornwaldt cyst, often detected incidentally ...</td>\n",
       "      <td>J39.2</td>\n",
       "    </tr>\n",
       "    <tr>\n",
       "      <th>3</th>\n",
       "      <td>Head</td>\n",
       "      <td>Fluid in the right petrous apex</td>\n",
       "      <td>H70.8</td>\n",
       "      <td>A small amount of incidentally found fluid in ...</td>\n",
       "      <td>H70.8</td>\n",
       "    </tr>\n",
       "    <tr>\n",
       "      <th>4</th>\n",
       "      <td>Abdomen</td>\n",
       "      <td>Spinal hemangioma</td>\n",
       "      <td>D18.09</td>\n",
       "      <td>A spinal hemangioma, often found incidentally ...</td>\n",
       "      <td>D18.09</td>\n",
       "    </tr>\n",
       "  </tbody>\n",
       "</table>\n",
       "</div>"
      ],
      "text/plain": [
       "  Body_Part               Incidental_Finding ICD10_code  \\\n",
       "0      Head  Cerebral cavernous malformation      I67.1   \n",
       "1      Head  Infundibulum of cerebral artery      Q28.2   \n",
       "2      Neck                   Tornwaldt cyst      J39.2   \n",
       "3      Head  Fluid in the right petrous apex      H70.8   \n",
       "4   Abdomen                Spinal hemangioma     D18.09   \n",
       "\n",
       "                                                 PFx PFx_ICD10_code  \n",
       "0  A small cavernous malformation of the brain is...          I67.1  \n",
       "1  An infundibulum detected on an MRI of the brai...          Q28.2  \n",
       "2  A Tornwaldt cyst, often detected incidentally ...          J39.2  \n",
       "3  A small amount of incidentally found fluid in ...          H70.8  \n",
       "4  A spinal hemangioma, often found incidentally ...         D18.09  "
      ]
     },
     "execution_count": 4,
     "metadata": {},
     "output_type": "execute_result"
    }
   ],
   "source": [
    "df_fewshot.head()\n"
   ]
  },
  {
   "cell_type": "code",
   "execution_count": 5,
   "metadata": {},
   "outputs": [],
   "source": [
    "df_eval = pd.read_csv('pfx_evaluation_data.csv')"
   ]
  },
  {
   "cell_type": "code",
   "execution_count": 6,
   "metadata": {},
   "outputs": [
    {
     "data": {
      "text/html": [
       "<div>\n",
       "<style scoped>\n",
       "    .dataframe tbody tr th:only-of-type {\n",
       "        vertical-align: middle;\n",
       "    }\n",
       "\n",
       "    .dataframe tbody tr th {\n",
       "        vertical-align: top;\n",
       "    }\n",
       "\n",
       "    .dataframe thead th {\n",
       "        text-align: right;\n",
       "    }\n",
       "</style>\n",
       "<table border=\"1\" class=\"dataframe\">\n",
       "  <thead>\n",
       "    <tr style=\"text-align: right;\">\n",
       "      <th></th>\n",
       "      <th>Body_Part</th>\n",
       "      <th>Incidental_Finding</th>\n",
       "      <th>ICD10_code</th>\n",
       "      <th>Unnamed: 3</th>\n",
       "    </tr>\n",
       "  </thead>\n",
       "  <tbody>\n",
       "    <tr>\n",
       "      <th>0</th>\n",
       "      <td>Head</td>\n",
       "      <td>White matter lesions</td>\n",
       "      <td>R90.82</td>\n",
       "      <td>NaN</td>\n",
       "    </tr>\n",
       "    <tr>\n",
       "      <th>1</th>\n",
       "      <td>Head</td>\n",
       "      <td>Arachnoid cyst</td>\n",
       "      <td>Q04.3</td>\n",
       "      <td>NaN</td>\n",
       "    </tr>\n",
       "    <tr>\n",
       "      <th>2</th>\n",
       "      <td>Head</td>\n",
       "      <td>Pituitary microadenoma</td>\n",
       "      <td>D35.2</td>\n",
       "      <td>NaN</td>\n",
       "    </tr>\n",
       "    <tr>\n",
       "      <th>3</th>\n",
       "      <td>Head</td>\n",
       "      <td>Pineal cyst</td>\n",
       "      <td>Q04.6</td>\n",
       "      <td>NaN</td>\n",
       "    </tr>\n",
       "    <tr>\n",
       "      <th>4</th>\n",
       "      <td>Head</td>\n",
       "      <td>Chiari I malformation</td>\n",
       "      <td>Q07.0</td>\n",
       "      <td>NaN</td>\n",
       "    </tr>\n",
       "  </tbody>\n",
       "</table>\n",
       "</div>"
      ],
      "text/plain": [
       "  Body_Part      Incidental_Finding ICD10_code  Unnamed: 3\n",
       "0      Head    White matter lesions     R90.82         NaN\n",
       "1      Head          Arachnoid cyst      Q04.3         NaN\n",
       "2      Head  Pituitary microadenoma      D35.2         NaN\n",
       "3      Head             Pineal cyst      Q04.6         NaN\n",
       "4      Head   Chiari I malformation      Q07.0         NaN"
      ]
     },
     "execution_count": 6,
     "metadata": {},
     "output_type": "execute_result"
    }
   ],
   "source": [
    "df_eval.head()"
   ]
  },
  {
   "cell_type": "code",
   "execution_count": 7,
   "metadata": {},
   "outputs": [
    {
     "name": "stdout",
     "output_type": "stream",
     "text": [
      "<PFx>\n",
      "A small cavernous malformation of the brain is a collection of abnormal blood vessels that is typically benign and often discovered incidentally when imaging is done. Patients should understand that these small malformations usually do not cause symptoms and usually do not require treatment. However, it's important to have periodic follow-ups with a neurologist to monitor for any changes, as there is a slight risk of bleeding which could lead to symptoms like headaches or seizures. If symptoms develop or if there are concerns about the malformation's behavior, the neurologist may discuss management options, which could range from observation to, in rare cases, surgical intervention.\n",
      "</PFx>\n",
      "<PFx_ICD10_code>\n",
      "```{\"PFx_ICD10_code\":\"I67.1\"}```\n",
      "</PFx_ICD10_code>\n",
      "\n",
      "\n"
     ]
    }
   ],
   "source": [
    "print(icd10_example.format(**df_fewshot.iloc[0]))"
   ]
  },
  {
   "cell_type": "code",
   "execution_count": null,
   "metadata": {},
   "outputs": [],
   "source": [
    "def label_icd10s(pfx_outputs_json):\n",
    "    pfx_icd10_fewshot_examples = \"\"\n",
    "    for i,row in df_fewshot.iterrows():\n",
    "        pfx_icd10_fewshot_examples += icd10_example.format(**row)\n",
    "    \n",
    "    pfx_icd10_codes = []\n",
    "    for pfx_output in pfx_outputs_json:\n",
    "        prompt = baseline_fewshot_icd10_labeling_prompt.format(examples=pfx_icd10_fewshot_examples,PFx=pfx_output['PFx'])\n",
    "        pfx_icd10_response = client.chat.completions.create(\n",
    "                #model=\"gpt-4o-mini\",\n",
    "                model=\"gpt-4o\",\n",
    "                temperature=0.0,\n",
    "                messages=[\n",
    "                    {\"role\": \"system\", \"content\": \"You are an ICD10 medical coder for incidental findings.\" },\n",
    "                    {\"role\": \"user\", \"content\": prompt }\n",
    "                ],\n",
    "                stream=False,\n",
    "            )\n",
    "        pfx_icd10_codes.append(pfx_icd10_response.choices[0])"
   ]
  },
  {
   "cell_type": "code",
   "execution_count": 8,
   "metadata": {},
   "outputs": [],
   "source": [
    "def extract_json(openai_response):\n",
    "    json_match = re.search(r'```.*(\\{.*?\\}).*```', openai_response.message.content, re.DOTALL)\n",
    "    if json_match:\n",
    "        json_str = json_match.group(1)\n",
    "        # Convert the extracted string to a JSON object\n",
    "        json_object = json.loads(json_str)\n",
    "        #print(json_object)\n",
    "        return json_object\n",
    "    else:\n",
    "        print(\"No JSON object found.\") \n",
    "        return dict()"
   ]
  },
  {
   "cell_type": "code",
   "execution_count": 11,
   "metadata": {},
   "outputs": [],
   "source": [
    "pfx_zeroshot_outputs = []\n",
    "for i,row in df_eval.iloc[:].iterrows():\n",
    "    #print(baseline_fewshot_prompt.format(examples=pfx_fewshot_examples,Incidental_Finding=row['Incidental_Finding']))\n",
    "    prompt = baseline_zeroshot_prompt.format(Incidental_Finding=row['Incidental_Finding'])\n",
    "    pfx_response = client.chat.completions.create(\n",
    "        #model=\"gpt-4o-mini\",\n",
    "        model=\"gpt-4o\",\n",
    "        temperature=0.0,\n",
    "        messages=[\n",
    "            {\"role\": \"system\", \"content\": \"You are a medical doctor rephrasing and explaining medical terminology to a patient.\" },\n",
    "            {\"role\": \"user\", \"content\": prompt }\n",
    "        ],\n",
    "        stream=False,\n",
    "    )\n",
    "    \n",
    "    pfx_zeroshot_outputs.append(pfx_response.choices[0])"
   ]
  },
  {
   "cell_type": "code",
   "execution_count": 18,
   "metadata": {},
   "outputs": [],
   "source": [
    "pfx_zeroshot_outputs_json = list(map(extract_json,pfx_zeroshot_outputs))\n",
    "pfx_zeroshot_outputs_icd10_labels = label_icd10s(pfx_zeroshot_outputs_json)\n",
    "pfx_zeroshot_output_df = pd.DataFrame(pfx_zeroshot_outputs_json)"
   ]
  },
  {
   "cell_type": "code",
   "execution_count": 21,
   "metadata": {},
   "outputs": [],
   "source": [
    "pfx_zeroshot_output_df['agent_icd10_codes'] = list(map(lambda x: list(x.values())[0],pfx_zeroshot_outputs_icd10_labels))"
   ]
  },
  {
   "cell_type": "code",
   "execution_count": 22,
   "metadata": {},
   "outputs": [
    {
     "data": {
      "text/plain": [
       "[False,\n",
       " False,\n",
       " True,\n",
       " False,\n",
       " True,\n",
       " True,\n",
       " True,\n",
       " True,\n",
       " True,\n",
       " True,\n",
       " True,\n",
       " True,\n",
       " True,\n",
       " True,\n",
       " True,\n",
       " True,\n",
       " True,\n",
       " True,\n",
       " True,\n",
       " True,\n",
       " False,\n",
       " True,\n",
       " True,\n",
       " False,\n",
       " True]"
      ]
     },
     "execution_count": 22,
     "metadata": {},
     "output_type": "execute_result"
    }
   ],
   "source": [
    "list(map(lambda x: x[0]==x[1],zip(pfx_zeroshot_output_df['ICD10_code'],pfx_zeroshot_output_df['agent_icd10_codes'])))"
   ]
  },
  {
   "cell_type": "code",
   "execution_count": 23,
   "metadata": {},
   "outputs": [
    {
     "data": {
      "text/plain": [
       "0.8"
      ]
     },
     "execution_count": 23,
     "metadata": {},
     "output_type": "execute_result"
    }
   ],
   "source": [
    "#icd10 accuracy -- at least according to GPT4o\n",
    "sum(_)/len(_)"
   ]
  },
  {
   "cell_type": "code",
   "execution_count": 29,
   "metadata": {},
   "outputs": [],
   "source": [
    "pfx_fewshot_examples = \"\"\n",
    "for i,row in df_fewshot.iterrows():\n",
    "    pfx_fewshot_examples += example.format(**row)\n",
    "\n",
    "    \n",
    "pfx_fewshot_outputs = []\n",
    "for i,row in df_eval.iloc[:].iterrows():\n",
    "    #print(baseline_fewshot_prompt.format(examples=pfx_fewshot_examples,Incidental_Finding=row['Incidental_Finding']))\n",
    "    prompt = baseline_fewshot_prompt.format(examples=pfx_fewshot_examples,Incidental_Finding=row['Incidental_Finding'])\n",
    "    pfx_response = client.chat.completions.create(\n",
    "        #model=\"gpt-4o-mini\",\n",
    "        model=\"gpt-4o\",\n",
    "        temperature=0.0,\n",
    "        messages=[\n",
    "            {\"role\": \"system\", \"content\": \"You are a medical doctor rephrasing and explaining medical terminology to a patient.\" },\n",
    "            {\"role\": \"user\", \"content\": prompt }\n",
    "        ],\n",
    "        stream=False,\n",
    "    )\n",
    "    \n",
    "    pfx_fewshot_outputs.append(pfx_response.choices[0])"
   ]
  },
  {
   "cell_type": "code",
   "execution_count": 34,
   "metadata": {},
   "outputs": [
    {
     "data": {
      "text/plain": [
       "25"
      ]
     },
     "execution_count": 34,
     "metadata": {},
     "output_type": "execute_result"
    }
   ],
   "source": [
    "len(pfx_fewshot_outputs_json)"
   ]
  },
  {
   "cell_type": "code",
   "execution_count": 36,
   "metadata": {},
   "outputs": [
    {
     "data": {
      "text/plain": [
       "25"
      ]
     },
     "execution_count": 36,
     "metadata": {},
     "output_type": "execute_result"
    }
   ],
   "source": [
    "len(pfx_fewshot_outputs_icd10_labels)"
   ]
  },
  {
   "cell_type": "code",
   "execution_count": 30,
   "metadata": {},
   "outputs": [],
   "source": [
    "pfx_fewshot_outputs_json = list(map(extract_json,pfx_fewshot_outputs))\n",
    "pfx_fewshot_outputs_icd10_labels = label_icd10s(pfx_fewshot_outputs_json)\n"
   ]
  },
  {
   "cell_type": "code",
   "execution_count": 41,
   "metadata": {},
   "outputs": [
    {
     "data": {
      "text/plain": [
       "[{'PFx_ICD10_code': 'R90.82'},\n",
       " {'ICD10_code': 'Q04.6'},\n",
       " {'PFx_ICD10_code': 'D35.2'},\n",
       " {'PFx_ICD10_code': 'Q04.8'},\n",
       " {'ICD10_code': 'Q07.0'},\n",
       " {'PFx_ICD10_code': 'E04.1'},\n",
       " {'PFx_ICD10_code': 'R59.0'},\n",
       " {'ICD10_code': 'K11.8'},\n",
       " {'ICD10_code': 'I65.2'},\n",
       " {'ICD10_code': 'M50.20'},\n",
       " {'ICD10_code': 'R91.1'},\n",
       " {'PFx_ICD10_code': 'R59.0'},\n",
       " {'ICD10_code': 'K44.9'},\n",
       " {'ICD10_code': 'I25.10'},\n",
       " {'ICD10_code': 'I31.3'},\n",
       " {'PFx_ICD10_code': 'K76.8'},\n",
       " {'ICD10_code': 'N28.1'},\n",
       " {'PFx_ICD10_code': 'D35.00'},\n",
       " {'ICD10_code': 'K86.2'},\n",
       " {'ICD10_code': 'R16.1'},\n",
       " {'ICD10_code': 'N83.2'},\n",
       " {'ICD10_code': 'D25.9'},\n",
       " {'ICD10_code': 'N40.1'},\n",
       " {'ICD10_code': 'R59.1'},\n",
       " {'ICD10_code': 'N32.3'}]"
      ]
     },
     "execution_count": 41,
     "metadata": {},
     "output_type": "execute_result"
    }
   ],
   "source": [
    "pfx_fewshot_outputs_icd10_labels"
   ]
  },
  {
   "cell_type": "code",
   "execution_count": 44,
   "metadata": {},
   "outputs": [
    {
     "data": {
      "text/plain": [
       "['R90.82',\n",
       " 'Q04.6',\n",
       " 'D35.2',\n",
       " 'Q04.8',\n",
       " 'Q07.0',\n",
       " 'E04.1',\n",
       " 'R59.0',\n",
       " 'K11.8',\n",
       " 'I65.2',\n",
       " 'M50.20',\n",
       " 'R91.1',\n",
       " 'R59.0',\n",
       " 'K44.9',\n",
       " 'I25.10',\n",
       " 'I31.3',\n",
       " 'K76.8',\n",
       " 'N28.1',\n",
       " 'D35.00',\n",
       " 'K86.2',\n",
       " 'R16.1',\n",
       " 'N83.2',\n",
       " 'D25.9',\n",
       " 'N40.1',\n",
       " 'R59.1',\n",
       " 'N32.3']"
      ]
     },
     "execution_count": 44,
     "metadata": {},
     "output_type": "execute_result"
    }
   ],
   "source": [
    " list(map(lambda x: list(x.values())[0],pfx_fewshot_outputs_icd10_labels))"
   ]
  },
  {
   "cell_type": "code",
   "execution_count": 46,
   "metadata": {},
   "outputs": [],
   "source": [
    "pfx_fewshot_output_df = pd.DataFrame(pfx_fewshot_outputs_json)\n",
    "pfx_fewshot_output_df['agent_icd10_codes'] = list(map(lambda x: list(x.values())[0],pfx_fewshot_outputs_icd10_labels))\n",
    "\n",
    "#pfx_icd10_fewshot_examples = \"\"\n",
    "#for i,row in df_fewshot.iterrows():\n",
    "#    pfx_icd10_fewshot_examples += icd10_example.format(**row)\n",
    "#    \n",
    "#pfx_icd10_codes = []\n",
    "#for pfx_output in pfx_outputs_json:\n",
    "#    prompt = baseline_fewshot_icd10_labeling_prompt.format(examples=pfx_icd10_fewshot_examples,PFx=pfx_output['PFx'])\n",
    "#    pfx_icd10_response = client.chat.completions.create(\n",
    "#            #model=\"gpt-4o-mini\",\n",
    "#            model=\"gpt-4o\",\n",
    "#            temperature=0.0,\n",
    "#            messages=[\n",
    "#                {\"role\": \"system\", \"content\": \"You are an ICD10 medical coder for incidental findings.\" },\n",
    "#                {\"role\": \"user\", \"content\": prompt }\n",
    "#            ],\n",
    "#            stream=False,\n",
    "#        )\n",
    "#    pfx_icd10_codes.append(pfx_icd10_response.choices[0])\n",
    "#    \n",
    "#    \n",
    "#"
   ]
  },
  {
   "cell_type": "code",
   "execution_count": 48,
   "metadata": {},
   "outputs": [
    {
     "data": {
      "text/plain": [
       "[True,\n",
       " False,\n",
       " True,\n",
       " True,\n",
       " True,\n",
       " True,\n",
       " True,\n",
       " True,\n",
       " True,\n",
       " True,\n",
       " True,\n",
       " True,\n",
       " True,\n",
       " True,\n",
       " True,\n",
       " True,\n",
       " True,\n",
       " True,\n",
       " True,\n",
       " True,\n",
       " True,\n",
       " True,\n",
       " False,\n",
       " True,\n",
       " True]"
      ]
     },
     "execution_count": 48,
     "metadata": {},
     "output_type": "execute_result"
    }
   ],
   "source": [
    "list(map(lambda x: x[0]==x[1],zip(pfx_fewshot_output_df['ICD10_code'],pfx_fewshot_output_df['agent_icd10_codes'])))"
   ]
  },
  {
   "cell_type": "code",
   "execution_count": 49,
   "metadata": {},
   "outputs": [
    {
     "data": {
      "text/plain": [
       "0.92"
      ]
     },
     "execution_count": 49,
     "metadata": {},
     "output_type": "execute_result"
    }
   ],
   "source": [
    "#icd10 accuracy -- at least according to GPT4o\n",
    "sum(_)/len(_)"
   ]
  },
  {
   "cell_type": "code",
   "execution_count": 21,
   "metadata": {},
   "outputs": [
    {
     "data": {
      "text/plain": [
       "<readability.readability.Readability at 0x1697209a0>"
      ]
     },
     "execution_count": 21,
     "metadata": {},
     "output_type": "execute_result"
    }
   ],
   "source": [
    "Readability(output_df.iloc[0]['PFx'])"
   ]
  },
  {
   "cell_type": "code",
   "execution_count": 22,
   "metadata": {},
   "outputs": [
    {
     "ename": "ReadabilityException",
     "evalue": "100 words required.",
     "output_type": "error",
     "traceback": [
      "\u001b[0;31m---------------------------------------------------------------------------\u001b[0m",
      "\u001b[0;31mReadabilityException\u001b[0m                      Traceback (most recent call last)",
      "Cell \u001b[0;32mIn[22], line 1\u001b[0m\n\u001b[0;32m----> 1\u001b[0m \u001b[43m_\u001b[49m\u001b[38;5;241;43m.\u001b[39;49m\u001b[43mflesch_kincaid\u001b[49m\u001b[43m(\u001b[49m\u001b[43m)\u001b[49m\n",
      "File \u001b[0;32m~/.pyenv/versions/3.10.13/lib/python3.10/site-packages/readability/readability.py:29\u001b[0m, in \u001b[0;36mReadability.flesch_kincaid\u001b[0;34m(self)\u001b[0m\n\u001b[1;32m     27\u001b[0m \u001b[38;5;28;01mdef\u001b[39;00m \u001b[38;5;21mflesch_kincaid\u001b[39m(\u001b[38;5;28mself\u001b[39m):\n\u001b[1;32m     28\u001b[0m \u001b[38;5;250m    \u001b[39m\u001b[38;5;124;03m\"\"\"Calculate Flesch-Kincaid Grade Level.\"\"\"\u001b[39;00m\n\u001b[0;32m---> 29\u001b[0m     \u001b[38;5;28;01mreturn\u001b[39;00m \u001b[43mFleschKincaid\u001b[49m\u001b[43m(\u001b[49m\u001b[38;5;28;43mself\u001b[39;49m\u001b[38;5;241;43m.\u001b[39;49m\u001b[43m_statistics\u001b[49m\u001b[43m)\u001b[49m\u001b[38;5;241m.\u001b[39mscore()\n",
      "File \u001b[0;32m~/.pyenv/versions/3.10.13/lib/python3.10/site-packages/readability/scorers/flesch_kincaid.py:18\u001b[0m, in \u001b[0;36mFleschKincaid.__init__\u001b[0;34m(self, stats)\u001b[0m\n\u001b[1;32m     16\u001b[0m \u001b[38;5;28mself\u001b[39m\u001b[38;5;241m.\u001b[39m_stats \u001b[38;5;241m=\u001b[39m stats\n\u001b[1;32m     17\u001b[0m \u001b[38;5;28;01mif\u001b[39;00m stats\u001b[38;5;241m.\u001b[39mnum_words \u001b[38;5;241m<\u001b[39m \u001b[38;5;241m100\u001b[39m:\n\u001b[0;32m---> 18\u001b[0m     \u001b[38;5;28;01mraise\u001b[39;00m ReadabilityException(\u001b[38;5;124m'\u001b[39m\u001b[38;5;124m100 words required.\u001b[39m\u001b[38;5;124m'\u001b[39m)\n",
      "\u001b[0;31mReadabilityException\u001b[0m: 100 words required."
     ]
    }
   ],
   "source": [
    "_.flesch_kincaid()"
   ]
  },
  {
   "cell_type": "code",
   "execution_count": 23,
   "metadata": {},
   "outputs": [
    {
     "data": {
      "text/plain": [
       "98"
      ]
     },
     "execution_count": 23,
     "metadata": {},
     "output_type": "execute_result"
    }
   ],
   "source": [
    "len(output_df.iloc[0]['PFx'].split())"
   ]
  },
  {
   "cell_type": "code",
   "execution_count": 24,
   "metadata": {},
   "outputs": [],
   "source": [
    "import textstat"
   ]
  },
  {
   "cell_type": "code",
   "execution_count": 25,
   "metadata": {},
   "outputs": [
    {
     "data": {
      "text/plain": [
       "14.0"
      ]
     },
     "execution_count": 25,
     "metadata": {},
     "output_type": "execute_result"
    }
   ],
   "source": [
    "textstat.flesch_kincaid_grade(output_df.iloc[0]['PFx'])"
   ]
  },
  {
   "cell_type": "code",
   "execution_count": 26,
   "metadata": {},
   "outputs": [
    {
     "data": {
      "text/plain": [
       "38.15"
      ]
     },
     "execution_count": 26,
     "metadata": {},
     "output_type": "execute_result"
    }
   ],
   "source": [
    "textstat.flesch_reading_ease(output_df.iloc[0]['PFx'])"
   ]
  },
  {
   "cell_type": "code",
   "execution_count": null,
   "metadata": {},
   "outputs": [],
   "source": []
  }
 ],
 "metadata": {
  "kernelspec": {
   "display_name": "Python 3 (ipykernel)",
   "language": "python",
   "name": "python3"
  },
  "language_info": {
   "codemirror_mode": {
    "name": "ipython",
    "version": 3
   },
   "file_extension": ".py",
   "mimetype": "text/x-python",
   "name": "python",
   "nbconvert_exporter": "python",
   "pygments_lexer": "ipython3",
   "version": "3.10.13"
  },
  "vscode": {
   "interpreter": {
    "hash": "e23f799cbd2581634725fbf6ce3480ae26192d78438dfafc8efe944acd6490d5"
   }
  }
 },
 "nbformat": 4,
 "nbformat_minor": 4
}
